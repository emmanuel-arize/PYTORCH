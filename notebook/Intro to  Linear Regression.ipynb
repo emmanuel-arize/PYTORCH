{
 "cells": [
  {
   "cell_type": "markdown",
   "metadata": {},
   "source": [
    "# Linear Regression\n",
    "linear regression is one of the most widely used regression models.This asserts that the is a linear function betweent the target variable (response) and the inputs variables (features) and it is a useful tool for predicting a quantitative response. \n",
    "\n",
    "\n",
    "# Linear Model\n",
    " \n",
    " Suppose as a data scientist in your company, you are tasked to predict the price of houses based on the age and area of a housing data presented to you because your comapny wants to purchase a company house next year. In machine learning, our goal is generalized well so to have a good predictions on newly unseen data so we mostly divided the dataset into training data or training set (mostly 70-80% of the dataset) which will be used in training our model and the rest as test set on which we will test our model to sea good the model is when predicting newly unseen data becuase after training our model what we will be predictions are going to be similar (new) but unseen inputs. The rows of the dataset are called instances (observations or examples) and what we want to predict is called a target or label or dependent variable or response. The variables upon which the predictions are based are called features or covariates or independent variables (any column value in the input dataset).\n",
    " \n",
    " \n",
    "# As a data scientist you first task is to ask\n",
    " \n",
    " $\\bullet$ Is there a relationship between age and price of a house or area and price of a house.Are these relations negative (negative in the sense that when one increase the other decrease and vise versa) or positive (when one increases the other increases).\n",
    " \n",
    " Does new or old houses have high or low prices and vice versa\n",
    " \n",
    " $\\bullet$ How strong is the relationship between these features and the price of a house. Which feature contribute most to the price of a house\n",
    " \n",
    " $\\bullet$ Is the relationship linear?\n",
    " \n",
    "Using linear regression assumes that there is approximately a linear relationship between features and the target variables and this linearity assumption says that the target (price) can be expressed as a weighted sum of the features"
   ]
  },
  {
   "cell_type": "markdown",
   "metadata": {},
   "source": [
    " \n",
    "using age and area of a house as features in predictint the price of a house the linearity assumption  says that the target (price) can be expressed as a weighted sum of the features (area and age) given by:\n",
    "\n",
    "$$ price = w_{1} *area + w_{2} * age + b$$\n",
    "\n",
    "let assume we have 3 rows then\n",
    "\n",
    "$$\n",
    "\\begin{array}{ccc}\n",
    "price_{1} = w_{0} + w_{1} *area_{1,1} + w_{2} * age_{1,2} \\\\\n",
    "price_{2} = w_{0} + w_{1} *area_{2,1} + w_{2} * age_{2,2} \\\\\n",
    "price_{3} = w_{0} + w_{1} *area_{3,1} + w_{2} * age_{3,2}\n",
    "\\end{array}$$\n",
    "\n",
    "$$price = \\left|\\begin{array}{ccc}\n",
    "1&area_{1,1} &  age_{1,2} \\\\\n",
    "1&area_{2,1} &  age_{2,2}\\\\\n",
    "1&area_{3,1} & age_{3,2}  \n",
    "\\end{array}\\right| \\left|\\begin{array}{ccc}\n",
    "w_{0} \\\\\n",
    "w_{1}\\\\\n",
    "w_{2}\n",
    "\\end{array}\\right|=X*w\n",
    "$$\n",
    "\n",
    "where $w_{1}$ and $w_{2}$ are weights(parameters) associted with area and age respectively and determine the influence of each feature on our prediction, and $b (w_{0}$ is called a bias(parameter) (also called an offset or intercept) which accounts for factors that are not accounted for by the input variables\n",
    "\n",
    "When our inputs consist of\n",
    "d features, we express our prediction $\\hat y$ as\n",
    "$\\hat y = w_{1}·x_{1} +... + w_{d} · x_{d} + b$\n",
    "Collecting all features into a vector $x$ and all weights into a vector w, we can express our model\n",
    "compactly using a dot product:\n",
    "$$\\hat y = w^{T} X + b=Xw + b$$ or $$\\hat y = w^{T} X$$ here the $$w_{o}= bias$$\n",
    "\n",
    "here $X$ is the data points and $w$ is the weight vector\n",
    "\n",
    "\n",
    "Even if the best model for predicting y given x is linear, we would not expect to find real-world data where $y_{i}$ exactly equals $w^{⊤}x + b$ for all points $(x, y)$. For example, whatever instruments we use to observe the features X and labels y might suffer small amount of measurement error. Thus, even when we are confident that the underlying relationship is linear, we will incorporate a noise term to account for such errors.\n",
    "\n",
    "\n",
    "$\\textbf{Before} $ we can go about searching for the best parameters w and b which will generalized well, we will need two more things:\n",
    "(i) a quality measure for some given model; and (ii) a procedure for updating the model parameters to improve its quality predictions"
   ]
  },
  {
   "cell_type": "markdown",
   "metadata": {
    "ExecuteTime": {
     "end_time": "2020-05-11T18:07:32.972157Z",
     "start_time": "2020-05-11T18:07:32.945151Z"
    }
   },
   "source": [
    "# Loss Function\n",
    "Our next step is to select a performance measure that will determine how good our model fit the data by measuring the closeness of our predictions to their real values. The loss function quantifies the distance between the actual or real and predicted value with a goal to minimize the prediction error for data points not used during training. The loss will usually be a non-negative number where smaller values are better and perfect predictions incur a loss of 0\n",
    "\n",
    "\n",
    "\n",
    "# sum of squared errors\n",
    "\n",
    "the sum of squared errors is the most popular loss function in regression problems and is given by\n",
    "\n",
    "$$\\ell_{i}(w,b)=\\frac{1}{2}(y_{i}-\\hat y_{i})^{2}$$ \n",
    "\n",
    " The fraction 1⁄2 is arbitrary, and is used for mathematical convenience\n",
    "\n",
    "in general to measure the quality of our model on the entire dataset, we simply average the losses on the training set\n",
    "$$\\ell(w,b)=\\frac{1}{2n} \\sum_{1}^{n}(w^{T} X_{i}+b -y_{i})^{2}$$\n",
    "\n",
    "during training we want to find the best parameters $(w∗,b∗)$ that minimize the total loss across all training samples:\n",
    "$$w∗, b∗ = argmin_{w,b}L(w, b)$$"
   ]
  },
  {
   "cell_type": "markdown",
   "metadata": {},
   "source": [
    "\n",
    "\n",
    "\n",
    "# Analytic Solution\n",
    "Linear regression happens to be a simple optimization problem\n",
    "\n",
    "$$\\ell(w)=(w^{T} X -y_{i})^{2}$$\n",
    "$$\\ell(w)=(w X -y)^{T}(w^{T} X -y)$$\n",
    "\n",
    "$$\\ell=ww^{T}x_{T}x-2w^{T}xy+yy^{T} $$\n",
    "\n",
    "$$ \\frac{\\partial \\ell}{\\partial  w} =2wx^{T}x-2xy=0$$\n",
    "$$w=(x^{T}x)^{-1}xy$$\n"
   ]
  },
  {
   "cell_type": "markdown",
   "metadata": {},
   "source": [
    "\n",
    "# UPDATING PARAMETERS\n",
    "during trainiing we want to automatically update the parameters in order the find the best parameters that minimize the error. We use Gradient descent in updating the parameters\n",
    "\n",
    "# Learning with the Delta Rule\n",
    "Now suppose we have $$\\hat y=u=w_{1}x$$\n",
    "\n",
    "then the error is given as\n",
    "$$ E=y- \\hat y$$\n",
    "\n",
    "and the square error $\\epsilon$ for an input is given as\n",
    "$$ \\epsilon =\\frac{1}{2}E^{2}=\\frac{1}{2}(y- \\hat y)^{2} $$\n",
    "\n",
    "\n",
    "To find the gradient at a particular weight we differentiate the square error function with respect to that particular weight  (here we are have w1), yielding\n",
    "$$\\frac{d \\epsilon}{dw_{1}} =\\frac{2}{2}(y- w_{1}x)(-x)=-Ex $$\n",
    "\n",
    "\n",
    "Using the delta rule, a change in weight is proportional to the negative of the error gradient because it is necessary to go down the error curve in order to minimize the error; therefore, the weight change is given by:\n",
    "\n",
    "$$ \\Delta w_{1}\\propto -Ex$$\n",
    "\n",
    "where $\\propto$ denotes proportionality, which can be replaced with learning rate $\\beta$.\n",
    "\n",
    "The learning rate is tuning parameter which determines \n",
    "\n",
    "how big a step is taking along the gradient in order to find a better weight. A too high value for $\\beta$ will make the learning jump over  the minima but smaller values slow it down and will take too long to converge.Using\n",
    "$\\beta$ the eqution becomes\n",
    "$$ \\Delta w_{1}=-\\beta Ex$$\n",
    "\n",
    " The new weight after the ith iteration canbe expressed as\n",
    "\n",
    "$$ W_{1}^{i+1}=W_{1}^{i}- \\Delta w_{1}=W_{1}^{i}-\\beta Ex $$\n",
    "\n",
    "\n",
    "using the same idea we can extend to\n",
    "$$ W_{j}^{i+1}=W_{j}^{i}-\\Delta w_{j}^{i}=W_{j}^{i}-\\beta Ex_{j}$$ \n",
    "$$ W_{0}^{i+1}=W_{0}^{i}-\\beta E$$\n",
    "where $W_{0}$ is the bias"
   ]
  },
  {
   "cell_type": "markdown",
   "metadata": {},
   "source": []
  },
  {
   "cell_type": "markdown",
   "metadata": {},
   "source": [
    "# Gradient Descent\n",
    "\n",
    "Gradient Descent is generic optimization algorithm capable of finding optimal solutions to a wide range of problems with th goal\n",
    "of iteratively reducing the error by tweaking (updating) the parameters in the direction that incrementally lowers the loss function.\n",
    "\n",
    "# stochastic gradient descent\n",
    "When training the model, it is preferable to wait use the whole training set to compute the gradients at every step and this is known as $\\textbf{Batch Gradient Descent}$ but this can slow the training of our model when the training set is large so instead we mostly used a random sample of the training set in updating the parameters and is  called $\\textbf{stochastic gradient descent}$.\n",
    "\n",
    "\n",
    "$\\textbf{stochastic gradient descent}$ is a stochastic approximation proximation of the gradient descent with the fact that the gradient is precisely not know, but instead so we make a rough approximation to the gradient in order to minimize an objective function which is written as a sum of differentiable functions\n",
    "\n",
    "\n",
    "\n",
    "\n",
    "$$ \\Delta w_{1}=\\beta (\\frac{1}{n} \\sum^{n}Ex_{i})  $$\n",
    "where n is the batch size\n",
    "\n",
    "# hyper-parameters\n",
    "\n",
    "the batch size and learning rate are manually pre-specified and not typically learned through model training. These parameters\n",
    "that are tunable but not updated in the training loop are called hyper-parameters.\n",
    "\n",
    "Hyperparameter tuning is the process by which pre-specified parameter are chosen, and typically requires that we adjust the hyperparameters based on the results of the inner (training) loop as assessed on a separate validation\n",
    "split of the data.\n",
    "\n",
    "\n"
   ]
  },
  {
   "cell_type": "markdown",
   "metadata": {},
   "source": []
  },
  {
   "cell_type": "markdown",
   "metadata": {},
   "source": [
    "# BACKPROPAGATION"
   ]
  },
  {
   "cell_type": "code",
   "execution_count": 1,
   "metadata": {
    "ExecuteTime": {
     "end_time": "2020-05-26T00:03:48.849591Z",
     "start_time": "2020-05-26T00:03:48.055528Z"
    }
   },
   "outputs": [],
   "source": [
    "import matplotlib.pyplot as plt\n",
    "import numpy as np\n",
    "%matplotlib inline"
   ]
  },
  {
   "cell_type": "code",
   "execution_count": 2,
   "metadata": {
    "ExecuteTime": {
     "end_time": "2020-05-26T00:03:49.123596Z",
     "start_time": "2020-05-26T00:03:48.856592Z"
    },
    "scrolled": true
   },
   "outputs": [
    {
     "data": {
      "image/png": "[encoded data removed]",
      "text/plain": [
       "<Figure size 432x288 with 1 Axes>"
      ]
     },
     "metadata": {},
     "output_type": "display_data"
    }
   ],
   "source": [
    "back=plt.imread('back.png')\n",
    "plt.imshow(back)\n",
    "plt.show()"
   ]
  },
  {
   "cell_type": "markdown",
   "metadata": {},
   "source": [
    "suppose we have a model of the form\n",
    "$$f(w1,w2,w3)=(w1+w2)w3$$ and $$q=w1+w2$$ with initial values\n",
    "w1=-1,w2=2 and w3=-2 \n",
    "\n",
    "using these initial values for the first iteration\n",
    "$$q=-1+2=1$$\n",
    "and $$f=q*w3=1*-2=-2$$\n",
    "\n",
    "in order to update the weights we will differentiate f with respect to the variables\n",
    "\n",
    "$ \\frac{\\partial q}{\\partial w1}=1 $, $  \\frac{\\partial q}{\\partial w2}=1 $, $  \\frac{\\partial f}{\\partial q}=w3=-2 $,\n",
    "$  \\frac{\\partial f}{\\partial w3}=q=1 $,\n",
    "$ \\frac{\\partial f }{\\partial w1}=\\frac{\\partial f }{\\partial q}\\frac{\\partial q}{\\partial w1}=-2*1=-2$,\n",
    "$ \\frac{\\partial f }{\\partial w2}=\\frac{\\partial f }{\\partial q}\\frac{\\partial q}{\\partial w2}=-2*1=-2$\n",
    "\n",
    "After updating the weights, the new weights becomes\n",
    "$$w1=\\frac{\\partial f }{\\partial w1}=\\frac{\\partial f }{\\partial q}\\frac{\\partial q}{\\partial w1}=-2*1=-2$$\n",
    "$$w2= \\frac{\\partial f }{\\partial w2}=\\frac{\\partial f }{\\partial q}\\frac{\\partial q}{\\partial w2}=-2*1=-2$$\n",
    "\n",
    "$$q= \\frac{\\partial f}{\\partial q}=w3=-2 $$\n",
    "$  w3=\\frac{\\partial f}{\\partial w3}=q=1 $\n",
    "\n",
    "\n",
    "\n",
    "# GRADIENT DESCENT and BACKPROPAGATION\n",
    "\n"
   ]
  },
  {
   "cell_type": "code",
   "execution_count": 3,
   "metadata": {
    "ExecuteTime": {
     "end_time": "2020-05-26T00:03:49.375593Z",
     "start_time": "2020-05-26T00:03:49.129593Z"
    }
   },
   "outputs": [
    {
     "data": {
      "image/png": "[encoded data removed]",
      "text/plain": [
       "<Figure size 432x288 with 1 Axes>"
      ]
     },
     "metadata": {},
     "output_type": "display_data"
    }
   ],
   "source": [
    "back=plt.imread('back1.jpg')\n",
    "plt.imshow(back)\n",
    "plt.show()"
   ]
  },
  {
   "cell_type": "markdown",
   "metadata": {},
   "source": [
    "from the diagram above let \n",
    "$$ W=w0 +w1x $$\n",
    "$$ P=\\frac{1}{1 + \\exp (-W) } $$\n",
    "\n",
    "$$ V=v0 +v1*P$$\n",
    "$$ \\hat y=\\frac{1}{1 + \\exp (-V) } $$\n",
    "\n",
    "$$ \\epsilon =\\frac{1}{2}E^{2}=\\frac{1}{2}(y- \\hat y)^{2} $$\n",
    "\n",
    "According to the chain rule, the error derivative for w1 will be"
   ]
  },
  {
   "cell_type": "markdown",
   "metadata": {},
   "source": [
    "$$ \\frac{\\partial \\epsilon }{\\partial w1}=\\frac{\\partial \\epsilon }{\\partial \\hat y} \\frac{\\partial \\hat y }{\\partial V }\\frac{\\partial V }{\\partial p } \\frac{\\partial P }{\\partial W} \\frac{\\partial W }{\\partial w1}$$"
   ]
  },
  {
   "cell_type": "markdown",
   "metadata": {},
   "source": [
    "# Normal Distribution\n",
    "---\n",
    "\n",
    "\n",
    "$$  p(y)=\\frac{1}{ \\sqrt[]{2 \\pi \\sigma^2}} \\exp(-\\frac{1}{2 \\sigma^2}(y-\\mu )^{2} )$$\n",
    "\n",
    "\n",
    "\n",
    "One way to motivate linear regression with the mean squared error loss function is to formally\n",
    "assume that observations arise from noisy observations, where the noise is normally distributed\n",
    "as follows\n",
    "$$ y = w^{T} X + b + \\varepsilon= Xw + b$$ where $\\varepsilon \\backsim N(\\mu(x), \\sigma^{2}) $\n",
    "\n",
    "We often assume $E(\\varepsilon)=\\mu(x) = 0$ and $var(\\varepsilon) = \\sigma ^{2}$. It is the random error  reflecting the difference between the observed and fitted linear relationship. \n",
    "\n",
    "\n",
    "\n",
    "Thus, we can now write out the likelihood of seeing a particular y for a given x via\n",
    "\n",
    "$$p(y|x)=\\frac{1}{\\sqrt{2 \\pi \\sigma^{2}}} \\exp( \\frac{-1}{ 2  \\sigma^{2}}(y-w^{T}x-b)^{2})$$\n",
    "\n",
    "connecting linear regression and Gaussians, we can rewrite\n",
    "the model in the following form:\n",
    "$$ p(y|x,\\theta)=N(y | \\mu(x), \\sigma^{2}(x))  $$\n",
    "\n",
    "where y is a noisy function values (targets) and x is the inputs\n",
    "\n",
    "This shows that the model is a conditional probability density. If we assume $\\mu$ is a linear function of x, then $\\mu = w^{T} x$,  the noise is fixed, $\\sigma^{2}(x) =\\sigma^{2}$ and $\\theta = (w, \\sigma^{2})$ are the parameters of the model.\n",
    "\n",
    "\n",
    "the  relationship between x and y is given as\n",
    "\n",
    "$$ y =\\mu(x) + \\varepsilon= Xw + b +\\varepsilon $$ where $\\varepsilon \\backsim N(\\mu(x), \\sigma^{2})$\n",
    "\n",
    "Our objective now is to find a function that is close or similar to the unknown function $\\mu$ that generated the dataset and that generalizes well\n",
    "\n",
    "\n",
    "Now, according to the maximum likelihood principle, the best values of b and w are those that maximize the likelihood of the entire dataset:\n",
    "\n",
    "\n",
    "$$P(Y|X)=\\prod_{i}^{n}p(y^{i}|x^{i} ) $$\n",
    "\n",
    " While, maximizing the product of many exponential functions, might look difficult, we can simplify things significantly, without changing the objective, by maximizing the log of the likelihood instead.  optimizations are more often expressed as minimization rather than maximization. So, without changing anything we can minimize the Negative Log-Likelihood (NLL) $-logp(y|x)$\n",
    " \n",
    " \n",
    "$$-logp(y|x)=\\sum_{i}^{n} \\frac{1}{2}log(2 \\pi \\sigma^{2}  + \\frac{1}{2\\sigma^{2}}(y^{i}-w^{T}x^{i}-b)^{2}$$\n",
    "\n",
    "\n",
    " $\\sigma$ is some fixed constant and we can ignore the first term since it does not depend on w or b. Now the second term is identical to the squared error objective introduced earlier, but for the multiplicative constant $\\frac{1}{2 \\sigma^{2}}$ the solution does not depend on it so this follows that minimizing squared error is equivalent to maximum likelihood estimation of a linear model under the assumption of additive Gaussian noise"
   ]
  },
  {
   "cell_type": "code",
   "execution_count": 4,
   "metadata": {
    "ExecuteTime": {
     "end_time": "2020-05-26T00:03:50.091590Z",
     "start_time": "2020-05-26T00:03:49.470590Z"
    }
   },
   "outputs": [],
   "source": [
    "import math\n",
    "import numpy as np\n",
    "import torch\n",
    "import matplotlib.pyplot as plt\n",
    "%matplotlib inline"
   ]
  },
  {
   "cell_type": "code",
   "execution_count": 5,
   "metadata": {
    "ExecuteTime": {
     "end_time": "2020-05-26T00:03:51.325350Z",
     "start_time": "2020-05-26T00:03:51.319350Z"
    }
   },
   "outputs": [],
   "source": [
    "def normal(z,mu,sigma):\n",
    "    p=1/np.sqrt(2*math.pi * sigma**2)\n",
    "    q=-0.5/ sigma**2\n",
    "    return p*torch.exp( q*(z-mu)**2)\n",
    "    "
   ]
  },
  {
   "cell_type": "code",
   "execution_count": 6,
   "metadata": {
    "ExecuteTime": {
     "end_time": "2020-05-26T00:03:51.472351Z",
     "start_time": "2020-05-26T00:03:51.454347Z"
    }
   },
   "outputs": [
    {
     "data": {
      "text/plain": [
       "tensor([-7.0000, -6.9900, -6.9800,  ...,  6.9700,  6.9800,  6.9900])"
      ]
     },
     "execution_count": 6,
     "metadata": {},
     "output_type": "execute_result"
    }
   ],
   "source": [
    "x=torch.arange(-7,7, 0.01)\n",
    "b=normal(x,mu=0,sigma=1)\n",
    "x"
   ]
  },
  {
   "cell_type": "code",
   "execution_count": 7,
   "metadata": {
    "ExecuteTime": {
     "end_time": "2020-05-26T00:03:51.725849Z",
     "start_time": "2020-05-26T00:03:51.715856Z"
    }
   },
   "outputs": [
    {
     "data": {
      "text/plain": [
       "tensor([-7.0000, -6.9900, -6.9800,  ...,  6.9700,  6.9800,  6.9900])"
      ]
     },
     "execution_count": 7,
     "metadata": {},
     "output_type": "execute_result"
    }
   ],
   "source": [
    "x.data"
   ]
  },
  {
   "cell_type": "code",
   "execution_count": 8,
   "metadata": {
    "ExecuteTime": {
     "end_time": "2020-05-26T00:03:51.865667Z",
     "start_time": "2020-05-26T00:03:51.856667Z"
    }
   },
   "outputs": [
    {
     "data": {
      "text/plain": [
       "array([-7.  , -6.99, -6.98, ...,  6.97,  6.98,  6.99], dtype=float32)"
      ]
     },
     "execution_count": 8,
     "metadata": {},
     "output_type": "execute_result"
    }
   ],
   "source": [
    "# return tensor as a NumPy\n",
    "x.data.numpy()"
   ]
  },
  {
   "cell_type": "code",
   "execution_count": 9,
   "metadata": {
    "ExecuteTime": {
     "end_time": "2020-05-26T00:03:52.083669Z",
     "start_time": "2020-05-26T00:03:52.073665Z"
    }
   },
   "outputs": [
    {
     "data": {
      "text/plain": [
       "tensor([9.1347e-12, 9.7966e-12, 1.0505e-11,  ..., 1.1264e-11, 1.0505e-11,\n",
       "        9.7966e-12])"
      ]
     },
     "execution_count": 9,
     "metadata": {},
     "output_type": "execute_result"
    }
   ],
   "source": [
    "b"
   ]
  },
  {
   "cell_type": "code",
   "execution_count": 10,
   "metadata": {
    "ExecuteTime": {
     "end_time": "2020-05-26T00:03:52.718353Z",
     "start_time": "2020-05-26T00:03:52.249667Z"
    }
   },
   "outputs": [
    {
     "data": {
      "image/png": "[encoded data removed]",
      "text/plain": [
       "<Figure size 432x288 with 1 Axes>"
      ]
     },
     "metadata": {},
     "output_type": "display_data"
    }
   ],
   "source": [
    "parameters = [(-3, 1), (0, 2),(4, 1)]\n",
    "for mu, sigma in parameters:\n",
    "    plt.plot(x.data.numpy(),normal(x,mu,sigma).data.numpy(),label=['mean',mu,'var',sigma])\n",
    "    plt.legend()"
   ]
  },
  {
   "cell_type": "markdown",
   "metadata": {},
   "source": [
    "you can check for the effects of the mean and variance by changing their values and plot them again"
   ]
  },
  {
   "cell_type": "markdown",
   "metadata": {},
   "source": [
    "from the diagram above one can see that changing the mean corresponds to a shift along the x axis, and increasing the\n",
    "variance spreads the distribution out, lowering its peak."
   ]
  },
  {
   "cell_type": "markdown",
   "metadata": {},
   "source": [
    "# Linear Regression Implementation from Scratch"
   ]
  },
  {
   "cell_type": "code",
   "execution_count": 11,
   "metadata": {
    "ExecuteTime": {
     "end_time": "2020-05-26T00:03:54.561744Z",
     "start_time": "2020-05-26T00:03:54.548746Z"
    }
   },
   "outputs": [],
   "source": [
    "import torch\n",
    "import numpy as np\n",
    "import torch.nn as nn\n",
    "from torch.autograd import Variable\n",
    "import random\n",
    "import matplotlib.pyplot as plt\n",
    "%matplotlib inline"
   ]
  },
  {
   "cell_type": "markdown",
   "metadata": {},
   "source": [
    "# Generating the Dataset\n",
    "\n",
    "Synthetic dataset generated will be an object $ X\\in R^{1000×2}.$\n",
    "where 1000 is the number of examples (observations) and 2 is the number of features"
   ]
  },
  {
   "cell_type": "code",
   "execution_count": 12,
   "metadata": {
    "ExecuteTime": {
     "end_time": "2020-05-26T00:03:54.925751Z",
     "start_time": "2020-05-26T00:03:54.914748Z"
    }
   },
   "outputs": [
    {
     "data": {
      "text/plain": [
       "tensor([[1.0561e-38, 1.0653e-38],\n",
       "        [1.4013e-45, 0.0000e+00],\n",
       "        [1.4013e-45, 0.0000e+00]])"
      ]
     },
     "execution_count": 12,
     "metadata": {},
     "output_type": "execute_result"
    }
   ],
   "source": [
    "#Returns a tensor filled with uninitialized data\n",
    "torch.empty(3,2)"
   ]
  },
  {
   "cell_type": "code",
   "execution_count": 13,
   "metadata": {
    "ExecuteTime": {
     "end_time": "2020-05-26T00:03:55.193746Z",
     "start_time": "2020-05-26T00:03:55.183750Z"
    }
   },
   "outputs": [
    {
     "data": {
      "text/plain": [
       "tensor([[-1.4443,  0.4568, -0.5118],\n",
       "        [ 2.0026,  0.7706, -0.4643]])"
      ]
     },
     "execution_count": 13,
     "metadata": {},
     "output_type": "execute_result"
    }
   ],
   "source": [
    "torch.empty(2,3).normal_(0,1)"
   ]
  },
  {
   "cell_type": "code",
   "execution_count": 14,
   "metadata": {
    "ExecuteTime": {
     "end_time": "2020-05-26T00:03:55.384747Z",
     "start_time": "2020-05-26T00:03:55.373748Z"
    }
   },
   "outputs": [],
   "source": [
    "# Saved in the d2l package for later use\n",
    "def synthetic_data(w, b, num_examples):\n",
    "    \"\"\"Generate y = X w + b + noise.\"\"\"\n",
    "    #generate a normally distributed data for x\n",
    "    X=torch.empty(size=(num_examples, len(w))).normal_(0,1)\n",
    "    y= torch.matmul(X, w) + b\n",
    "    # add noise to the y data\n",
    "    y+=torch.empty(size=(y.shape)).normal_(0,0.01)\n",
    "    return X, y.reshape(-1,1)\n",
    "true_w = torch.tensor([2, -3.4])\n",
    "true_b = 4.2\n",
    "features, labels = synthetic_data(true_w, true_b, 1000)"
   ]
  },
  {
   "cell_type": "code",
   "execution_count": 15,
   "metadata": {
    "ExecuteTime": {
     "end_time": "2020-05-26T00:03:55.593748Z",
     "start_time": "2020-05-26T00:03:55.577749Z"
    }
   },
   "outputs": [
    {
     "name": "stdout",
     "output_type": "stream",
     "text": [
      "the data contain 1000 observations with 2 features(dimension) \n",
      " hence a 1000 by 2 matrix\n"
     ]
    }
   ],
   "source": [
    "print('the data contain '+ str(features.shape[0])+' observations with ' + \n",
    "      str(features.shape[1]) +' features(dimension) \\n hence a '+ str(features.shape[0]) \n",
    "      +\" by \" + str(features.shape[1])+' matrix' )"
   ]
  },
  {
   "cell_type": "code",
   "execution_count": 16,
   "metadata": {
    "ExecuteTime": {
     "end_time": "2020-05-26T00:03:55.783746Z",
     "start_time": "2020-05-26T00:03:55.772770Z"
    }
   },
   "outputs": [
    {
     "data": {
      "text/plain": [
       "tensor([[ 0.3396, -1.4574],\n",
       "        [-0.6820,  0.4155],\n",
       "        [ 0.3706,  0.9885]])"
      ]
     },
     "execution_count": 16,
     "metadata": {},
     "output_type": "execute_result"
    }
   ],
   "source": [
    "#first 3 observations\n",
    "features[:3]"
   ]
  },
  {
   "cell_type": "code",
   "execution_count": 17,
   "metadata": {
    "ExecuteTime": {
     "end_time": "2020-05-26T00:03:55.969747Z",
     "start_time": "2020-05-26T00:03:55.959748Z"
    }
   },
   "outputs": [
    {
     "data": {
      "text/plain": [
       "tensor([[-0.6820,  0.4155],\n",
       "        [ 0.3706,  0.9885],\n",
       "        [-0.9407,  1.2740]])"
      ]
     },
     "execution_count": 17,
     "metadata": {},
     "output_type": "execute_result"
    }
   ],
   "source": [
    "features[1:4]"
   ]
  },
  {
   "cell_type": "code",
   "execution_count": 18,
   "metadata": {
    "ExecuteTime": {
     "end_time": "2020-05-26T00:03:56.093747Z",
     "start_time": "2020-05-26T00:03:56.082753Z"
    }
   },
   "outputs": [
    {
     "data": {
      "text/plain": [
       "tensor([[9.8333],\n",
       "        [1.4375]])"
      ]
     },
     "execution_count": 18,
     "metadata": {},
     "output_type": "execute_result"
    }
   ],
   "source": [
    "# first 2 observations within the target variable\n",
    "labels[:2]"
   ]
  },
  {
   "cell_type": "markdown",
   "metadata": {},
   "source": [
    "# RELATIONS BETWEEN FEATURES AND THE LABEL (TARGET)"
   ]
  },
  {
   "cell_type": "code",
   "execution_count": 19,
   "metadata": {
    "ExecuteTime": {
     "end_time": "2020-05-26T00:03:57.700777Z",
     "start_time": "2020-05-26T00:03:57.436789Z"
    }
   },
   "outputs": [
    {
     "data": {
      "image/png": "[encoded data removed]",
      "text/plain": [
       "<Figure size 432x288 with 1 Axes>"
      ]
     },
     "metadata": {},
     "output_type": "display_data"
    }
   ],
   "source": [
    "plt.scatter(features[:, 0], labels,s=2);# s=marker size"
   ]
  },
  {
   "cell_type": "markdown",
   "metadata": {},
   "source": [
    " from the diagram above there seems to be  a positive correlation (relation) between the first feature and \n",
    "the target variable(labels)  "
   ]
  },
  {
   "cell_type": "code",
   "execution_count": 20,
   "metadata": {
    "ExecuteTime": {
     "end_time": "2020-05-26T00:03:58.101779Z",
     "start_time": "2020-05-26T00:03:57.862782Z"
    },
    "scrolled": false
   },
   "outputs": [
    {
     "data": {
      "image/png": "[encoded data removed]",
      "text/plain": [
       "<Figure size 432x288 with 1 Axes>"
      ]
     },
     "metadata": {},
     "output_type": "display_data"
    }
   ],
   "source": [
    "plt.scatter(features[:, 1], labels, 1);"
   ]
  },
  {
   "cell_type": "markdown",
   "metadata": {
    "ExecuteTime": {
     "end_time": "2020-05-15T17:26:37.282272Z",
     "start_time": "2020-05-15T17:26:37.275295Z"
    }
   },
   "source": [
    "from the diagram the second feature seems to be negatively correlated witg the target variable(labels) "
   ]
  },
  {
   "cell_type": "code",
   "execution_count": null,
   "metadata": {},
   "outputs": [],
   "source": []
  },
  {
   "cell_type": "markdown",
   "metadata": {
    "ExecuteTime": {
     "end_time": "2020-05-25T23:07:15.721367Z",
     "start_time": "2020-05-25T23:07:15.712367Z"
    }
   },
   "source": [
    "a function to randomly sample (minbatch) from the dataset"
   ]
  },
  {
   "cell_type": "code",
   "execution_count": 21,
   "metadata": {
    "ExecuteTime": {
     "end_time": "2020-05-26T00:03:59.250595Z",
     "start_time": "2020-05-26T00:03:59.242601Z"
    }
   },
   "outputs": [],
   "source": [
    "def data_iter(batch_size, features, labels):\n",
    "    num_examples=len(features)# features.shape[0]\n",
    "    indices=list(range(num_examples))\n",
    "    # The examples are read at random, in no particular order\n",
    "    random.shuffle(indices)\n",
    "    for i in range(0,num_examples,batch_size):\n",
    "        batch_indices=torch.tensor(indices[i:min(i+batch_size,num_examples)])\n",
    "        yield features[batch_indices],labels[batch_indices]"
   ]
  },
  {
   "cell_type": "code",
   "execution_count": 22,
   "metadata": {
    "ExecuteTime": {
     "end_time": "2020-05-26T00:03:59.378597Z",
     "start_time": "2020-05-26T00:03:59.356594Z"
    }
   },
   "outputs": [
    {
     "name": "stdout",
     "output_type": "stream",
     "text": [
      "tensor([[ 0.2381,  1.2165],\n",
      "        [ 1.6699,  0.0198],\n",
      "        [ 0.2277,  0.9765],\n",
      "        [-0.7113, -0.1758],\n",
      "        [ 1.2520,  0.2034],\n",
      "        [ 1.3301,  1.3369],\n",
      "        [ 0.9941,  0.4115],\n",
      "        [-1.1379,  0.5710],\n",
      "        [-0.4001, -0.3981],\n",
      "        [-1.6767, -0.0726]]) \n",
      " \n",
      " tensor([[ 0.5300],\n",
      "        [ 7.4798],\n",
      "        [ 1.3270],\n",
      "        [ 3.3788],\n",
      "        [ 6.0344],\n",
      "        [ 2.3166],\n",
      "        [ 4.8038],\n",
      "        [-0.0164],\n",
      "        [ 4.7640],\n",
      "        [ 1.0799]])\n"
     ]
    }
   ],
   "source": [
    "# letʼs read and print the first small batch of data examples\n",
    "batch_size = 10\n",
    "for X, y in data_iter(batch_size, features, labels):\n",
    "    print(X, '\\n \\n', y)\n",
    "    break"
   ]
  },
  {
   "cell_type": "markdown",
   "metadata": {},
   "source": [
    "# Initializing Model Parameters"
   ]
  },
  {
   "cell_type": "markdown",
   "metadata": {},
   "source": [
    " initializing the weights by sampling random numbers from a normal distribution with mean 0 and a standard deviation of 0:01,\n",
    "setting the bias b to 0. These are the parameters that will be updating automatically during training"
   ]
  },
  {
   "cell_type": "code",
   "execution_count": 23,
   "metadata": {
    "ExecuteTime": {
     "end_time": "2020-05-26T00:04:00.906150Z",
     "start_time": "2020-05-26T00:04:00.900154Z"
    }
   },
   "outputs": [],
   "source": [
    "w = torch.empty(size=(2,1)).normal_(mean=0,std=0.01)\n",
    "b = torch.zeros(size=(1,))"
   ]
  },
  {
   "cell_type": "markdown",
   "metadata": {},
   "source": [
    "The parameters are now initialized , so our next task is to find a way to adjust the the various weights and biases until they fit our data sufficiently well so as to minimize the error prediction. Adjusting the parameters requires taking the gradient (a multi-dimensional derivative) of our loss function with respect to the  various parameters (weights and bias). Given this gradient, we can update each parameter in the direction that reduces the loss."
   ]
  },
  {
   "cell_type": "code",
   "execution_count": 24,
   "metadata": {
    "ExecuteTime": {
     "end_time": "2020-05-26T00:04:01.818683Z",
     "start_time": "2020-05-26T00:04:01.809680Z"
    }
   },
   "outputs": [
    {
     "data": {
      "text/plain": [
       "tensor([0.], requires_grad=True)"
      ]
     },
     "execution_count": 24,
     "metadata": {},
     "output_type": "execute_result"
    }
   ],
   "source": [
    "w.requires_grad_(True)\n",
    "b.requires_grad_(True)"
   ]
  },
  {
   "cell_type": "code",
   "execution_count": 25,
   "metadata": {
    "ExecuteTime": {
     "end_time": "2020-05-26T00:04:02.230455Z",
     "start_time": "2020-05-26T00:04:02.220457Z"
    }
   },
   "outputs": [
    {
     "data": {
      "text/plain": [
       "(tensor([[-0.0040],\n",
       "         [ 0.0010]]), tensor([0.]))"
      ]
     },
     "execution_count": 25,
     "metadata": {},
     "output_type": "execute_result"
    }
   ],
   "source": [
    "w.data,b.data"
   ]
  },
  {
   "cell_type": "code",
   "execution_count": null,
   "metadata": {},
   "outputs": [],
   "source": []
  },
  {
   "cell_type": "markdown",
   "metadata": {},
   "source": [
    "# Defining the Model\n",
    "\n",
    "Collecting all features into a vector $\\textbf{X}$ and all weights into a vector $\\textbf{w}$, we can express our model\n",
    "compactly using a matrix-vector dot product notation and add a scalar value $\\textbf{b}$ elementwise to the vector product:\n",
    "\n",
    "$$y=Xw+b$$"
   ]
  },
  {
   "cell_type": "code",
   "execution_count": 26,
   "metadata": {
    "ExecuteTime": {
     "end_time": "2020-05-26T00:04:03.563938Z",
     "start_time": "2020-05-26T00:04:03.556920Z"
    }
   },
   "outputs": [],
   "source": [
    "def linreg(X, w, b):\n",
    "    return torch.matmul(X, w) + b"
   ]
  },
  {
   "cell_type": "markdown",
   "metadata": {},
   "source": [
    "# Defining the Loss Function\n",
    "we nedd a loss function to quantify the prediction of our model in order to know how far or close are our predicted values from that of the target (real) values. When predicted values are far from the target values our models parameters need to be updated.\n",
    " y represent the true values whilst the predicted valueʼs\n",
    "are y_hat\n",
    "\n",
    "our loss function is defined to be the $ \\textbf{MEAN SQUARED ERROR} $ which is given as\n",
    "\n",
    "$$MSE=\\frac{1}{n}\\sum_{i}^{n}(y_{i}-\\hat y_{i})^{2}$$\n",
    "\n",
    "instead of\n",
    "\n",
    "the sum of squared errors which is defined :\n",
    "\n",
    "$$\\ell_{i}(y,\\hat y)=\\frac{1}{2}\\sum_{i}^{n}(y_{i}-\\hat y_{i})^{2}$$"
   ]
  },
  {
   "cell_type": "code",
   "execution_count": 27,
   "metadata": {
    "ExecuteTime": {
     "end_time": "2020-05-26T00:04:04.553603Z",
     "start_time": "2020-05-26T00:04:04.548600Z"
    }
   },
   "outputs": [],
   "source": [
    "def Mean_squared_loss(y_hat, y):\n",
    "    squared_def=(y_hat - y.reshape(y_hat.shape)) ** 2 \n",
    "    return squared_def.mean()"
   ]
  },
  {
   "cell_type": "markdown",
   "metadata": {},
   "source": [
    "# Defining the Optimization Algorithm\n",
    "---"
   ]
  },
  {
   "cell_type": "markdown",
   "metadata": {},
   "source": [
    " # stochastic gradient descent\n",
    " stochastic gradient descent is used as our optimization algorithm"
   ]
  },
  {
   "cell_type": "code",
   "execution_count": 28,
   "metadata": {
    "ExecuteTime": {
     "end_time": "2020-05-26T00:04:06.063502Z",
     "start_time": "2020-05-26T00:04:06.053509Z"
    }
   },
   "outputs": [
    {
     "data": {
      "text/plain": [
       "(tensor([-0.0040], grad_fn=<SelectBackward>),\n",
       " tensor([0.0010], grad_fn=<SelectBackward>))"
      ]
     },
     "execution_count": 28,
     "metadata": {},
     "output_type": "execute_result"
    }
   ],
   "source": [
    "w1,w2=w\n",
    "w1,w2"
   ]
  },
  {
   "cell_type": "code",
   "execution_count": 29,
   "metadata": {
    "ExecuteTime": {
     "end_time": "2020-05-26T00:04:06.489067Z",
     "start_time": "2020-05-26T00:04:06.484071Z"
    }
   },
   "outputs": [],
   "source": [
    "def sgd(params, lr, batch_size):\n",
    "    for param in params:\n",
    "        param.data=param.data -lr*param.grad/batch_size\n",
    "        # zero the gradients after updating\n",
    "        param.grad.data.zero_()"
   ]
  },
  {
   "cell_type": "code",
   "execution_count": 30,
   "metadata": {
    "ExecuteTime": {
     "end_time": "2020-05-26T00:04:08.032368Z",
     "start_time": "2020-05-26T00:04:07.129923Z"
    }
   },
   "outputs": [
    {
     "name": "stdout",
     "output_type": "stream",
     "text": [
      "epoch 1, loss 10.004758\n",
      "epoch 2, loss 3.109695\n",
      "epoch 3, loss 0.970005\n",
      "epoch 4, loss 0.303549\n",
      "epoch 5, loss 0.095347\n",
      "epoch 6, loss 0.030106\n",
      "epoch 7, loss 0.009581\n",
      "epoch 8, loss 0.003104\n",
      "epoch 9, loss 0.001055\n",
      "epoch 10, loss 0.000401\n"
     ]
    }
   ],
   "source": [
    "lr = 0.03  # Learning rate\n",
    "num_epochs = 10  # Number of iterations\n",
    "net = linreg  # Our fancy linear model\n",
    "loss = Mean_squared_loss  # 0.5 (y-y')^2\n",
    "\n",
    "for epoch in range(num_epochs):\n",
    "    for X, y in data_iter(batch_size, features, labels):\n",
    "        y_hat=net(X, w, b)\n",
    "        l = loss(y_hat, y)  # Minibatch loss in X and y\n",
    "        l.mean().backward()  # Compute gradient on l(loss) with respect to [w,b]\n",
    "        sgd([w, b], lr, batch_size)  # Update parameters using their gradient\n",
    "    with torch.no_grad():\n",
    "        train_l = loss(net(features, w, b), labels)\n",
    "        print('epoch %d, loss %f' % (epoch + 1, train_l.mean().numpy()))"
   ]
  },
  {
   "cell_type": "markdown",
   "metadata": {},
   "source": [
    " because we synthesized the data ourselves, we know precisely what the true parameters are. Thus, we can evaluate our success in training by comparing the true parameters with those that we learned through our training loop."
   ]
  },
  {
   "cell_type": "code",
   "execution_count": 31,
   "metadata": {
    "ExecuteTime": {
     "end_time": "2020-05-26T00:04:09.332864Z",
     "start_time": "2020-05-26T00:04:09.311869Z"
    }
   },
   "outputs": [
    {
     "name": "stdout",
     "output_type": "stream",
     "text": [
      "Error in estimating w tensor([ 0.0104, -0.0099], grad_fn=<SubBackward0>)\n",
      "Error in estimating b tensor([0.0102], grad_fn=<RsubBackward1>)\n"
     ]
    }
   ],
   "source": [
    "print('Error in estimating w', true_w - w.reshape(true_w.shape))\n",
    "print('Error in estimating b', true_b - b)"
   ]
  },
  {
   "cell_type": "code",
   "execution_count": null,
   "metadata": {},
   "outputs": [],
   "source": []
  },
  {
   "cell_type": "markdown",
   "metadata": {},
   "source": [
    "# Concise Implementation of Linear Regression\n",
    "----"
   ]
  },
  {
   "cell_type": "code",
   "execution_count": 32,
   "metadata": {
    "ExecuteTime": {
     "end_time": "2020-05-26T00:04:12.338592Z",
     "start_time": "2020-05-26T00:04:11.523665Z"
    }
   },
   "outputs": [],
   "source": [
    "import torch\n",
    "import numpy as np\n",
    "import torch.nn as nn\n",
    "import os\n",
    "import pandas as pd\n",
    "from torch.autograd import Variable\n",
    "from torch.utils.data import TensorDataset,DataLoader,Dataset"
   ]
  },
  {
   "cell_type": "code",
   "execution_count": 33,
   "metadata": {
    "ExecuteTime": {
     "end_time": "2020-05-26T00:04:12.350148Z",
     "start_time": "2020-05-26T00:04:12.343550Z"
    }
   },
   "outputs": [],
   "source": [
    "def load_array(features,labels, batch_size):\n",
    "    dataset=TensorDataset(*(features,labels))\n",
    "    dataloader = DataLoader(dataset=dataset,batch_size=batch_size,shuffle=True)\n",
    "    return dataloader"
   ]
  },
  {
   "cell_type": "code",
   "execution_count": 34,
   "metadata": {
    "ExecuteTime": {
     "end_time": "2020-05-26T00:04:12.382142Z",
     "start_time": "2020-05-26T00:04:12.357142Z"
    },
    "scrolled": true
   },
   "outputs": [
    {
     "name": "stdout",
     "output_type": "stream",
     "text": [
      "tensor([[-0.0907, -0.3392],\n",
      "        [-0.7678, -0.7975],\n",
      "        [ 0.6000, -0.9744],\n",
      "        [ 0.2709,  0.1540],\n",
      "        [-0.5056,  0.5921],\n",
      "        [ 0.6008, -2.3618],\n",
      "        [-0.0469,  0.8556],\n",
      "        [ 1.9756,  0.0851],\n",
      "        [-0.0478,  0.9304],\n",
      "        [-1.0263,  0.7519]])\n",
      "tensor([[ 5.1719],\n",
      "        [ 5.3778],\n",
      "        [ 8.7202],\n",
      "        [ 4.2023],\n",
      "        [ 1.1798],\n",
      "        [13.4441],\n",
      "        [ 1.1896],\n",
      "        [ 7.8440],\n",
      "        [ 0.9495],\n",
      "        [-0.4207]])\n"
     ]
    }
   ],
   "source": [
    "batch_size = 10\n",
    "data_iter=load_array(features=features, labels=labels,batch_size=batch_size)\n",
    "# letʼs read and print the first small batch of data examples\n",
    "for X, y in data_iter:\n",
    "    print(X)\n",
    "    print( y)\n",
    "    break"
   ]
  },
  {
   "cell_type": "markdown",
   "metadata": {},
   "source": [
    "# Defining the Model\n",
    "\n",
    "PyTorch allows to build a Custom nn Modules. this is a linear regression with fully single conneted layer"
   ]
  },
  {
   "cell_type": "code",
   "execution_count": 35,
   "metadata": {
    "ExecuteTime": {
     "end_time": "2020-05-26T00:04:13.142032Z",
     "start_time": "2020-05-26T00:04:13.136045Z"
    }
   },
   "outputs": [],
   "source": [
    "class Linear_reg(nn.Module):\n",
    "    def __init__(self, in_features, out_features):\n",
    "        super(Linear_reg,self).__init__()\n",
    "        self.single_layer=nn.Linear(in_features,out_features,bias=True)\n",
    "    def forward(self,inputs):\n",
    "        return self.single_layer(inputs)"
   ]
  },
  {
   "cell_type": "markdown",
   "metadata": {},
   "source": [
    "Instantiating our linear regression object with input feature size of two and out feature size of 1."
   ]
  },
  {
   "cell_type": "code",
   "execution_count": 36,
   "metadata": {
    "ExecuteTime": {
     "end_time": "2020-05-26T00:04:14.245655Z",
     "start_time": "2020-05-26T00:04:14.239653Z"
    }
   },
   "outputs": [],
   "source": [
    "net=Linear_reg(in_features=2,out_features=1)"
   ]
  },
  {
   "cell_type": "markdown",
   "metadata": {},
   "source": [
    "# Initializing Model Parameters"
   ]
  },
  {
   "cell_type": "code",
   "execution_count": 37,
   "metadata": {
    "ExecuteTime": {
     "end_time": "2020-05-26T00:04:14.943776Z",
     "start_time": "2020-05-26T00:04:14.936776Z"
    }
   },
   "outputs": [
    {
     "data": {
      "text/plain": [
       "(torch.Size([1, 2]), torch.Size([1]))"
      ]
     },
     "execution_count": 37,
     "metadata": {},
     "output_type": "execute_result"
    }
   ],
   "source": [
    "# shape of the weights and bias\n",
    "net.single_layer.weight.shape,net.single_layer.bias.shape"
   ]
  },
  {
   "cell_type": "markdown",
   "metadata": {},
   "source": [
    "initializing the parameter (weights and bias) randomly from a normal distribution with mean 0 and standard deviation 0:01.\n",
    "Both the weight vector and bias will have attached gradients"
   ]
  },
  {
   "cell_type": "code",
   "execution_count": 38,
   "metadata": {
    "ExecuteTime": {
     "end_time": "2020-05-26T00:04:15.361129Z",
     "start_time": "2020-05-26T00:04:15.355131Z"
    }
   },
   "outputs": [],
   "source": [
    "net.single_layer.weight.data=torch.empty(size=(1,2)).normal_(mean=0,std=0.01)\n",
    "net.single_layer.bias.data=torch.zeros(size=(1,))"
   ]
  },
  {
   "cell_type": "markdown",
   "metadata": {},
   "source": [
    "#  Defining the Loss Function\n",
    "\n",
    "\n",
    "we will be using PyTorch inbuilt mean squared error which is within\n",
    "\n",
    "$\\textbf{class torch.nn.MSELoss(size_average=True)}$ whichthat measures the mean squared error between n elements in the input x and target y:\n"
   ]
  },
  {
   "cell_type": "code",
   "execution_count": 39,
   "metadata": {
    "ExecuteTime": {
     "end_time": "2020-05-26T00:04:16.033558Z",
     "start_time": "2020-05-26T00:04:16.029528Z"
    }
   },
   "outputs": [],
   "source": [
    "mse_loss=nn.MSELoss()"
   ]
  },
  {
   "cell_type": "markdown",
   "metadata": {},
   "source": [
    "# Defining the Optimization Algorithm"
   ]
  },
  {
   "cell_type": "code",
   "execution_count": 40,
   "metadata": {
    "ExecuteTime": {
     "end_time": "2020-05-26T00:04:16.761892Z",
     "start_time": "2020-05-26T00:04:16.757889Z"
    }
   },
   "outputs": [],
   "source": [
    "optm=torch.optim.SGD(net.parameters(), lr=0.03)"
   ]
  },
  {
   "cell_type": "markdown",
   "metadata": {},
   "source": [
    "# Training"
   ]
  },
  {
   "cell_type": "code",
   "execution_count": 41,
   "metadata": {
    "ExecuteTime": {
     "end_time": "2020-05-26T00:04:18.313301Z",
     "start_time": "2020-05-26T00:04:17.535430Z"
    }
   },
   "outputs": [
    {
     "name": "stdout",
     "output_type": "stream",
     "text": [
      "epoch 1, loss 0.0003183772205375135\n",
      "epoch 2, loss 9.53461931203492e-05\n",
      "epoch 3, loss 9.494039841229096e-05\n",
      "epoch 4, loss 9.533178672427312e-05\n",
      "epoch 5, loss 9.489449439570308e-05\n",
      "epoch 6, loss 9.519315062789246e-05\n",
      "epoch 7, loss 9.480866719968617e-05\n",
      "epoch 8, loss 9.520983439870179e-05\n",
      "epoch 9, loss 9.479086293140426e-05\n",
      "epoch 10, loss 9.634630259824917e-05\n"
     ]
    }
   ],
   "source": [
    "for epoch in range(10): \n",
    "    for X,y in data_iter:\n",
    "        y_hat=net(X)\n",
    "        loss=mse_loss(y_hat ,y)\n",
    "        # zero the gradients\n",
    "        # this will clear the gradient for the next traing\n",
    "        optm.zero_grad() \n",
    "        # compute the gradient \n",
    "        loss.backward() \n",
    "        # apply the gradient\n",
    "        optm.step() \n",
    "    l_tr = mse_loss(net(features), labels) \n",
    "    print('epoch {}, loss {}'.format(epoch+1, l_tr)) "
   ]
  },
  {
   "cell_type": "code",
   "execution_count": 42,
   "metadata": {
    "ExecuteTime": {
     "end_time": "2020-05-26T00:04:18.922266Z",
     "start_time": "2020-05-26T00:04:18.909266Z"
    }
   },
   "outputs": [
    {
     "data": {
      "text/plain": [
       "(Parameter containing:\n",
       " tensor([[ 1.9996, -3.4012]], requires_grad=True), Parameter containing:\n",
       " tensor([4.2009], requires_grad=True))"
      ]
     },
     "execution_count": 42,
     "metadata": {},
     "output_type": "execute_result"
    }
   ],
   "source": [
    "# weights and bias \n",
    "w,b=net.parameters()\n",
    "w,b"
   ]
  },
  {
   "cell_type": "code",
   "execution_count": 43,
   "metadata": {
    "ExecuteTime": {
     "end_time": "2020-05-26T00:04:20.042758Z",
     "start_time": "2020-05-26T00:04:20.018779Z"
    }
   },
   "outputs": [
    {
     "name": "stdout",
     "output_type": "stream",
     "text": [
      "Error in estimating w tensor([[0.0004, 0.0012]], grad_fn=<SubBackward0>)\n",
      "Error in estimating b tensor(-0.0009, grad_fn=<RsubBackward1>)\n"
     ]
    }
   ],
   "source": [
    "\n",
    "print('Error in estimating w', true_w.reshape(w.shape) - w)\n",
    "b = list(net.parameters())[1][0]\n",
    "print('Error in estimating b', true_b - b)"
   ]
  },
  {
   "cell_type": "code",
   "execution_count": null,
   "metadata": {},
   "outputs": [],
   "source": []
  },
  {
   "cell_type": "markdown",
   "metadata": {},
   "source": [
    "# PREDICTION OS SALES USING LINEAR REGRESSION\n",
    "\n",
    "we are going to use a toy dataset to predict the number of sales made from flyers"
   ]
  },
  {
   "cell_type": "markdown",
   "metadata": {
    "ExecuteTime": {
     "end_time": "2020-05-31T09:48:57.069355Z",
     "start_time": "2020-05-31T09:48:57.063357Z"
    }
   },
   "source": [
    "loading the needed packages"
   ]
  },
  {
   "cell_type": "code",
   "execution_count": 1,
   "metadata": {
    "ExecuteTime": {
     "end_time": "2020-05-31T14:18:40.325906Z",
     "start_time": "2020-05-31T14:18:38.728185Z"
    }
   },
   "outputs": [],
   "source": [
    "import torch\n",
    "import numpy as np\n",
    "import torch.nn as nn\n",
    "from torch.autograd import Variable\n",
    "import random\n",
    "from torch.utils.data import Dataset, DataLoader,TensorDataset\n",
    "import matplotlib.pyplot as plt\n",
    "import pandas as pd\n",
    "import os\n",
    "%matplotlib inline"
   ]
  },
  {
   "cell_type": "markdown",
   "metadata": {},
   "source": [
    "checking for files within the data folder"
   ]
  },
  {
   "cell_type": "code",
   "execution_count": 2,
   "metadata": {
    "ExecuteTime": {
     "end_time": "2020-05-31T14:18:40.608598Z",
     "start_time": "2020-05-31T14:18:40.505583Z"
    },
    "scrolled": true
   },
   "outputs": [
    {
     "name": "stdout",
     "output_type": "stream",
     "text": [
      "Lemonade.csv\n"
     ]
    }
   ],
   "source": [
    "!ls \"./data\""
   ]
  },
  {
   "cell_type": "markdown",
   "metadata": {},
   "source": [
    "below is a function to load the needed dataset"
   ]
  },
  {
   "cell_type": "code",
   "execution_count": 3,
   "metadata": {
    "ExecuteTime": {
     "end_time": "2020-05-31T14:18:40.911512Z",
     "start_time": "2020-05-31T14:18:40.893522Z"
    }
   },
   "outputs": [],
   "source": [
    "\n",
    "def load_data(path='./data'):\n",
    "    data=os.path.join(path,'Lemonade.csv')\n",
    "    return pd.read_csv(data)\n",
    "\n",
    "data=load_data()"
   ]
  },
  {
   "cell_type": "markdown",
   "metadata": {
    "ExecuteTime": {
     "end_time": "2020-05-31T09:54:52.389678Z",
     "start_time": "2020-05-31T09:54:52.375061Z"
    }
   },
   "source": [
    "showing first few examples of the features"
   ]
  },
  {
   "cell_type": "code",
   "execution_count": 4,
   "metadata": {
    "ExecuteTime": {
     "end_time": "2020-05-31T14:18:41.366177Z",
     "start_time": "2020-05-31T14:18:41.270181Z"
    }
   },
   "outputs": [
    {
     "data": {
      "text/html": [
       "<div>\n",
       "<style scoped>\n",
       "    .dataframe tbody tr th:only-of-type {\n",
       "        vertical-align: middle;\n",
       "    }\n",
       "\n",
       "    .dataframe tbody tr th {\n",
       "        vertical-align: top;\n",
       "    }\n",
       "\n",
       "    .dataframe thead th {\n",
       "        text-align: right;\n",
       "    }\n",
       "</style>\n",
       "<table border=\"1\" class=\"dataframe\">\n",
       "  <thead>\n",
       "    <tr style=\"text-align: right;\">\n",
       "      <th></th>\n",
       "      <th>Date</th>\n",
       "      <th>Day</th>\n",
       "      <th>Temperature</th>\n",
       "      <th>Rainfall</th>\n",
       "      <th>Flyers</th>\n",
       "      <th>Price</th>\n",
       "    </tr>\n",
       "  </thead>\n",
       "  <tbody>\n",
       "    <tr>\n",
       "      <th>0</th>\n",
       "      <td>01/01/2017</td>\n",
       "      <td>Sunday</td>\n",
       "      <td>27.0</td>\n",
       "      <td>2.00</td>\n",
       "      <td>15</td>\n",
       "      <td>0.3</td>\n",
       "    </tr>\n",
       "    <tr>\n",
       "      <th>1</th>\n",
       "      <td>02/01/2017</td>\n",
       "      <td>Monday</td>\n",
       "      <td>28.9</td>\n",
       "      <td>1.33</td>\n",
       "      <td>15</td>\n",
       "      <td>0.3</td>\n",
       "    </tr>\n",
       "    <tr>\n",
       "      <th>2</th>\n",
       "      <td>03/01/2017</td>\n",
       "      <td>Tuesday</td>\n",
       "      <td>34.5</td>\n",
       "      <td>1.33</td>\n",
       "      <td>27</td>\n",
       "      <td>0.3</td>\n",
       "    </tr>\n",
       "    <tr>\n",
       "      <th>3</th>\n",
       "      <td>04/01/2017</td>\n",
       "      <td>Wednesday</td>\n",
       "      <td>44.1</td>\n",
       "      <td>1.05</td>\n",
       "      <td>28</td>\n",
       "      <td>0.3</td>\n",
       "    </tr>\n",
       "    <tr>\n",
       "      <th>4</th>\n",
       "      <td>05/01/2017</td>\n",
       "      <td>Thursday</td>\n",
       "      <td>42.4</td>\n",
       "      <td>1.00</td>\n",
       "      <td>33</td>\n",
       "      <td>0.3</td>\n",
       "    </tr>\n",
       "  </tbody>\n",
       "</table>\n",
       "</div>"
      ],
      "text/plain": [
       "         Date        Day  Temperature  Rainfall  Flyers  Price\n",
       "0  01/01/2017     Sunday         27.0      2.00      15    0.3\n",
       "1  02/01/2017     Monday         28.9      1.33      15    0.3\n",
       "2  03/01/2017    Tuesday         34.5      1.33      27    0.3\n",
       "3  04/01/2017  Wednesday         44.1      1.05      28    0.3\n",
       "4  05/01/2017   Thursday         42.4      1.00      33    0.3"
      ]
     },
     "execution_count": 4,
     "metadata": {},
     "output_type": "execute_result"
    }
   ],
   "source": [
    "data.iloc[:,:-1].head()"
   ]
  },
  {
   "cell_type": "markdown",
   "metadata": {
    "ExecuteTime": {
     "end_time": "2020-05-31T09:56:29.155033Z",
     "start_time": "2020-05-31T09:56:29.147040Z"
    }
   },
   "source": [
    "showing first few examples of the target variable"
   ]
  },
  {
   "cell_type": "code",
   "execution_count": 5,
   "metadata": {
    "ExecuteTime": {
     "end_time": "2020-05-31T14:18:41.671180Z",
     "start_time": "2020-05-31T14:18:41.656176Z"
    }
   },
   "outputs": [
    {
     "data": {
      "text/html": [
       "<div>\n",
       "<style scoped>\n",
       "    .dataframe tbody tr th:only-of-type {\n",
       "        vertical-align: middle;\n",
       "    }\n",
       "\n",
       "    .dataframe tbody tr th {\n",
       "        vertical-align: top;\n",
       "    }\n",
       "\n",
       "    .dataframe thead th {\n",
       "        text-align: right;\n",
       "    }\n",
       "</style>\n",
       "<table border=\"1\" class=\"dataframe\">\n",
       "  <thead>\n",
       "    <tr style=\"text-align: right;\">\n",
       "      <th></th>\n",
       "      <th>Sales</th>\n",
       "    </tr>\n",
       "  </thead>\n",
       "  <tbody>\n",
       "    <tr>\n",
       "      <th>0</th>\n",
       "      <td>10</td>\n",
       "    </tr>\n",
       "    <tr>\n",
       "      <th>1</th>\n",
       "      <td>13</td>\n",
       "    </tr>\n",
       "    <tr>\n",
       "      <th>2</th>\n",
       "      <td>15</td>\n",
       "    </tr>\n",
       "    <tr>\n",
       "      <th>3</th>\n",
       "      <td>17</td>\n",
       "    </tr>\n",
       "    <tr>\n",
       "      <th>4</th>\n",
       "      <td>18</td>\n",
       "    </tr>\n",
       "  </tbody>\n",
       "</table>\n",
       "</div>"
      ],
      "text/plain": [
       "   Sales\n",
       "0     10\n",
       "1     13\n",
       "2     15\n",
       "3     17\n",
       "4     18"
      ]
     },
     "execution_count": 5,
     "metadata": {},
     "output_type": "execute_result"
    }
   ],
   "source": [
    "data.iloc[:,[-1]].head()"
   ]
  },
  {
   "cell_type": "code",
   "execution_count": 6,
   "metadata": {
    "ExecuteTime": {
     "end_time": "2020-05-31T14:18:41.898184Z",
     "start_time": "2020-05-31T14:18:41.887185Z"
    }
   },
   "outputs": [
    {
     "name": "stdout",
     "output_type": "stream",
     "text": [
      "the dataset has 6 features with 365 examples\n"
     ]
    }
   ],
   "source": [
    "\n",
    "print( 'the dataset has '+str(data.iloc[:,:-1].shape[1])+' features with '+str(data.iloc[:,:-1].shape[0])+\" examples\")"
   ]
  },
  {
   "cell_type": "code",
   "execution_count": 7,
   "metadata": {
    "ExecuteTime": {
     "end_time": "2020-05-31T14:18:42.043177Z",
     "start_time": "2020-05-31T14:18:42.008184Z"
    }
   },
   "outputs": [
    {
     "name": "stdout",
     "output_type": "stream",
     "text": [
      "features    % of missing values \n",
      " \n",
      "Date           0.0\n",
      "Day            0.0\n",
      "Temperature    0.0\n",
      "Rainfall       0.0\n",
      "Flyers         0.0\n",
      "Price          0.0\n",
      "Sales          0.0\n",
      "dtype: float64\n"
     ]
    }
   ],
   "source": [
    "print('features    % of missing values \\n \\n'+str(np.sum(data.isnull()/len(data))))"
   ]
  },
  {
   "cell_type": "markdown",
   "metadata": {},
   "source": [
    "from the above results we  can see that the data contain no missing values"
   ]
  },
  {
   "cell_type": "markdown",
   "metadata": {},
   "source": [
    "we are interested in determining whether sales increased with rainy or high temperature days so we are going to drop the date and day feature because our focus is not to determine which day increase sales but to know when sales increase base on sunny on rainy day"
   ]
  },
  {
   "cell_type": "code",
   "execution_count": 8,
   "metadata": {
    "ExecuteTime": {
     "end_time": "2020-05-31T14:18:42.448182Z",
     "start_time": "2020-05-31T14:18:42.441186Z"
    }
   },
   "outputs": [],
   "source": [
    "data.drop(['Date','Day'],axis=1,inplace=True)"
   ]
  },
  {
   "cell_type": "code",
   "execution_count": 9,
   "metadata": {
    "ExecuteTime": {
     "end_time": "2020-05-31T14:18:42.741181Z",
     "start_time": "2020-05-31T14:18:42.720179Z"
    }
   },
   "outputs": [
    {
     "data": {
      "text/html": [
       "<div>\n",
       "<style scoped>\n",
       "    .dataframe tbody tr th:only-of-type {\n",
       "        vertical-align: middle;\n",
       "    }\n",
       "\n",
       "    .dataframe tbody tr th {\n",
       "        vertical-align: top;\n",
       "    }\n",
       "\n",
       "    .dataframe thead th {\n",
       "        text-align: right;\n",
       "    }\n",
       "</style>\n",
       "<table border=\"1\" class=\"dataframe\">\n",
       "  <thead>\n",
       "    <tr style=\"text-align: right;\">\n",
       "      <th></th>\n",
       "      <th>Temperature</th>\n",
       "      <th>Rainfall</th>\n",
       "      <th>Flyers</th>\n",
       "      <th>Price</th>\n",
       "      <th>Sales</th>\n",
       "    </tr>\n",
       "  </thead>\n",
       "  <tbody>\n",
       "    <tr>\n",
       "      <th>0</th>\n",
       "      <td>27.0</td>\n",
       "      <td>2.00</td>\n",
       "      <td>15</td>\n",
       "      <td>0.3</td>\n",
       "      <td>10</td>\n",
       "    </tr>\n",
       "    <tr>\n",
       "      <th>1</th>\n",
       "      <td>28.9</td>\n",
       "      <td>1.33</td>\n",
       "      <td>15</td>\n",
       "      <td>0.3</td>\n",
       "      <td>13</td>\n",
       "    </tr>\n",
       "    <tr>\n",
       "      <th>2</th>\n",
       "      <td>34.5</td>\n",
       "      <td>1.33</td>\n",
       "      <td>27</td>\n",
       "      <td>0.3</td>\n",
       "      <td>15</td>\n",
       "    </tr>\n",
       "    <tr>\n",
       "      <th>3</th>\n",
       "      <td>44.1</td>\n",
       "      <td>1.05</td>\n",
       "      <td>28</td>\n",
       "      <td>0.3</td>\n",
       "      <td>17</td>\n",
       "    </tr>\n",
       "    <tr>\n",
       "      <th>4</th>\n",
       "      <td>42.4</td>\n",
       "      <td>1.00</td>\n",
       "      <td>33</td>\n",
       "      <td>0.3</td>\n",
       "      <td>18</td>\n",
       "    </tr>\n",
       "  </tbody>\n",
       "</table>\n",
       "</div>"
      ],
      "text/plain": [
       "   Temperature  Rainfall  Flyers  Price  Sales\n",
       "0         27.0      2.00      15    0.3     10\n",
       "1         28.9      1.33      15    0.3     13\n",
       "2         34.5      1.33      27    0.3     15\n",
       "3         44.1      1.05      28    0.3     17\n",
       "4         42.4      1.00      33    0.3     18"
      ]
     },
     "execution_count": 9,
     "metadata": {},
     "output_type": "execute_result"
    }
   ],
   "source": [
    "data.head()"
   ]
  },
  {
   "cell_type": "code",
   "execution_count": 10,
   "metadata": {
    "ExecuteTime": {
     "end_time": "2020-05-31T14:18:42.861179Z",
     "start_time": "2020-05-31T14:18:42.852176Z"
    }
   },
   "outputs": [
    {
     "name": "stdout",
     "output_type": "stream",
     "text": [
      "After dropping the date and day features the dataset now has 4 features with 365 examples\n"
     ]
    }
   ],
   "source": [
    "\n",
    "print( 'After dropping the date and day features the dataset now has '+str(data.iloc[:,:-1].shape[1])+\n",
    "      ' features with '+str(data.iloc[:,:-1].shape[0])+\" examples\")"
   ]
  },
  {
   "cell_type": "markdown",
   "metadata": {},
   "source": [
    "# checking for correlation between the inputs and the target variable"
   ]
  },
  {
   "cell_type": "code",
   "execution_count": 11,
   "metadata": {
    "ExecuteTime": {
     "end_time": "2020-05-31T14:18:43.160181Z",
     "start_time": "2020-05-31T14:18:43.156178Z"
    }
   },
   "outputs": [],
   "source": [
    "from pandas.plotting import scatter_matrix"
   ]
  },
  {
   "cell_type": "code",
   "execution_count": 12,
   "metadata": {
    "ExecuteTime": {
     "end_time": "2020-05-31T14:18:45.243464Z",
     "start_time": "2020-05-31T14:18:43.439271Z"
    }
   },
   "outputs": [
    {
     "data": {
      "image/png": "[encoded data removed]",
      "text/plain": [
       "<Figure size 720x720 with 25 Axes>"
      ]
     },
     "metadata": {},
     "output_type": "display_data"
    }
   ],
   "source": [
    "scatter_matrix(data,alpha=0.36,figsize=(10,10))\n",
    "plt.show()"
   ]
  },
  {
   "cell_type": "markdown",
   "metadata": {
    "ExecuteTime": {
     "end_time": "2020-05-31T11:27:16.541829Z",
     "start_time": "2020-05-31T11:27:16.530831Z"
    }
   },
   "source": [
    "from the above diagram we see that\n",
    "\n",
    "$\\bullet$ there is $\\textbf{positive correlation between sales and temperature}$  that is sales increase with high temperature and vice versa\n",
    "\n",
    "$\\bullet$ there is a $\\textbf{negative correlation between sales and rainfall} $ that is sales decreases with high rainfall and vice versa\n",
    "\n",
    "$\\bullet$ there is $\\textbf{positive correlation between sales and Flyers}$  that is sales increase when a lot of flyers are sold and vice versa\n",
    "\n"
   ]
  },
  {
   "cell_type": "markdown",
   "metadata": {
    "ExecuteTime": {
     "end_time": "2020-05-31T11:36:11.852211Z",
     "start_time": "2020-05-31T11:36:11.845220Z"
    }
   },
   "source": [
    "Computing pairwise correlation of between columns,"
   ]
  },
  {
   "cell_type": "code",
   "execution_count": 13,
   "metadata": {
    "ExecuteTime": {
     "end_time": "2020-05-31T14:18:45.279465Z",
     "start_time": "2020-05-31T14:18:45.255464Z"
    }
   },
   "outputs": [
    {
     "data": {
      "text/html": [
       "<div>\n",
       "<style scoped>\n",
       "    .dataframe tbody tr th:only-of-type {\n",
       "        vertical-align: middle;\n",
       "    }\n",
       "\n",
       "    .dataframe tbody tr th {\n",
       "        vertical-align: top;\n",
       "    }\n",
       "\n",
       "    .dataframe thead th {\n",
       "        text-align: right;\n",
       "    }\n",
       "</style>\n",
       "<table border=\"1\" class=\"dataframe\">\n",
       "  <thead>\n",
       "    <tr style=\"text-align: right;\">\n",
       "      <th></th>\n",
       "      <th>Temperature</th>\n",
       "      <th>Rainfall</th>\n",
       "      <th>Flyers</th>\n",
       "      <th>Price</th>\n",
       "      <th>Sales</th>\n",
       "    </tr>\n",
       "  </thead>\n",
       "  <tbody>\n",
       "    <tr>\n",
       "      <th>Temperature</th>\n",
       "      <td>1.000000</td>\n",
       "      <td>-0.902859</td>\n",
       "      <td>0.797719</td>\n",
       "      <td>0.504709</td>\n",
       "      <td>0.989832</td>\n",
       "    </tr>\n",
       "    <tr>\n",
       "      <th>Rainfall</th>\n",
       "      <td>-0.902859</td>\n",
       "      <td>1.000000</td>\n",
       "      <td>-0.747389</td>\n",
       "      <td>-0.383775</td>\n",
       "      <td>-0.909214</td>\n",
       "    </tr>\n",
       "    <tr>\n",
       "      <th>Flyers</th>\n",
       "      <td>0.797719</td>\n",
       "      <td>-0.747389</td>\n",
       "      <td>1.000000</td>\n",
       "      <td>0.405437</td>\n",
       "      <td>0.805183</td>\n",
       "    </tr>\n",
       "    <tr>\n",
       "      <th>Price</th>\n",
       "      <td>0.504709</td>\n",
       "      <td>-0.383775</td>\n",
       "      <td>0.405437</td>\n",
       "      <td>1.000000</td>\n",
       "      <td>0.512908</td>\n",
       "    </tr>\n",
       "    <tr>\n",
       "      <th>Sales</th>\n",
       "      <td>0.989832</td>\n",
       "      <td>-0.909214</td>\n",
       "      <td>0.805183</td>\n",
       "      <td>0.512908</td>\n",
       "      <td>1.000000</td>\n",
       "    </tr>\n",
       "  </tbody>\n",
       "</table>\n",
       "</div>"
      ],
      "text/plain": [
       "             Temperature  Rainfall    Flyers     Price     Sales\n",
       "Temperature     1.000000 -0.902859  0.797719  0.504709  0.989832\n",
       "Rainfall       -0.902859  1.000000 -0.747389 -0.383775 -0.909214\n",
       "Flyers          0.797719 -0.747389  1.000000  0.405437  0.805183\n",
       "Price           0.504709 -0.383775  0.405437  1.000000  0.512908\n",
       "Sales           0.989832 -0.909214  0.805183  0.512908  1.000000"
      ]
     },
     "execution_count": 13,
     "metadata": {},
     "output_type": "execute_result"
    }
   ],
   "source": [
    "data.corr()"
   ]
  },
  {
   "cell_type": "code",
   "execution_count": 14,
   "metadata": {
    "ExecuteTime": {
     "end_time": "2020-05-31T14:18:46.224767Z",
     "start_time": "2020-05-31T14:18:45.286466Z"
    }
   },
   "outputs": [],
   "source": [
    "from sklearn.preprocessing import StandardScaler"
   ]
  },
  {
   "cell_type": "code",
   "execution_count": 15,
   "metadata": {
    "ExecuteTime": {
     "end_time": "2020-05-31T14:18:46.249301Z",
     "start_time": "2020-05-31T14:18:46.224767Z"
    }
   },
   "outputs": [
    {
     "data": {
      "text/html": [
       "<div>\n",
       "<style scoped>\n",
       "    .dataframe tbody tr th:only-of-type {\n",
       "        vertical-align: middle;\n",
       "    }\n",
       "\n",
       "    .dataframe tbody tr th {\n",
       "        vertical-align: top;\n",
       "    }\n",
       "\n",
       "    .dataframe thead th {\n",
       "        text-align: right;\n",
       "    }\n",
       "</style>\n",
       "<table border=\"1\" class=\"dataframe\">\n",
       "  <thead>\n",
       "    <tr style=\"text-align: right;\">\n",
       "      <th></th>\n",
       "      <th>Temperature</th>\n",
       "      <th>Rainfall</th>\n",
       "      <th>Flyers</th>\n",
       "      <th>Price</th>\n",
       "    </tr>\n",
       "  </thead>\n",
       "  <tbody>\n",
       "    <tr>\n",
       "      <th>0</th>\n",
       "      <td>27.0</td>\n",
       "      <td>2.00</td>\n",
       "      <td>15</td>\n",
       "      <td>0.3</td>\n",
       "    </tr>\n",
       "    <tr>\n",
       "      <th>1</th>\n",
       "      <td>28.9</td>\n",
       "      <td>1.33</td>\n",
       "      <td>15</td>\n",
       "      <td>0.3</td>\n",
       "    </tr>\n",
       "    <tr>\n",
       "      <th>2</th>\n",
       "      <td>34.5</td>\n",
       "      <td>1.33</td>\n",
       "      <td>27</td>\n",
       "      <td>0.3</td>\n",
       "    </tr>\n",
       "    <tr>\n",
       "      <th>3</th>\n",
       "      <td>44.1</td>\n",
       "      <td>1.05</td>\n",
       "      <td>28</td>\n",
       "      <td>0.3</td>\n",
       "    </tr>\n",
       "    <tr>\n",
       "      <th>4</th>\n",
       "      <td>42.4</td>\n",
       "      <td>1.00</td>\n",
       "      <td>33</td>\n",
       "      <td>0.3</td>\n",
       "    </tr>\n",
       "  </tbody>\n",
       "</table>\n",
       "</div>"
      ],
      "text/plain": [
       "   Temperature  Rainfall  Flyers  Price\n",
       "0         27.0      2.00      15    0.3\n",
       "1         28.9      1.33      15    0.3\n",
       "2         34.5      1.33      27    0.3\n",
       "3         44.1      1.05      28    0.3\n",
       "4         42.4      1.00      33    0.3"
      ]
     },
     "execution_count": 15,
     "metadata": {},
     "output_type": "execute_result"
    }
   ],
   "source": [
    "imputs=data.iloc[:,:-1]\n",
    "imputs.head()"
   ]
  },
  {
   "cell_type": "markdown",
   "metadata": {
    "ExecuteTime": {
     "end_time": "2020-05-31T12:33:13.495423Z",
     "start_time": "2020-05-31T12:33:13.477445Z"
    }
   },
   "source": [
    "Scaling the features so that all values are within the same range"
   ]
  },
  {
   "cell_type": "code",
   "execution_count": 16,
   "metadata": {
    "ExecuteTime": {
     "end_time": "2020-05-31T14:18:46.270321Z",
     "start_time": "2020-05-31T14:18:46.255299Z"
    }
   },
   "outputs": [],
   "source": [
    "# creating a scaling object\n",
    "scaler=StandardScaler()\n",
    "imputs=scaler.fit_transform(imputs)"
   ]
  },
  {
   "cell_type": "code",
   "execution_count": 17,
   "metadata": {
    "ExecuteTime": {
     "end_time": "2020-05-31T14:18:46.283322Z",
     "start_time": "2020-05-31T14:18:46.275309Z"
    }
   },
   "outputs": [],
   "source": [
    "def load_array(features,labels, batch_size):\n",
    "    dataset=TensorDataset(*(features,labels))\n",
    "    dataloader = DataLoader(dataset=dataset,batch_size=batch_size,shuffle=True)\n",
    "    return dataloader"
   ]
  },
  {
   "cell_type": "code",
   "execution_count": 18,
   "metadata": {
    "ExecuteTime": {
     "end_time": "2020-05-31T14:18:46.307320Z",
     "start_time": "2020-05-31T14:18:46.288298Z"
    }
   },
   "outputs": [],
   "source": [
    "inputs=torch.from_numpy(imputs)\n",
    "target=torch.from_numpy(np.array(data.iloc[:,[-1]]))\n",
    "train_loader=load_array(features=inputs,labels=target,batch_size=100)"
   ]
  },
  {
   "cell_type": "code",
   "execution_count": 19,
   "metadata": {
    "ExecuteTime": {
     "end_time": "2020-05-31T14:18:46.340305Z",
     "start_time": "2020-05-31T14:18:46.312300Z"
    },
    "scrolled": true
   },
   "outputs": [
    {
     "name": "stdout",
     "output_type": "stream",
     "text": [
      "tensor([[ 0.5360, -0.5007, -0.0217, -0.4523],\n",
      "        [-1.8444,  2.6151, -1.7693, -0.4523],\n",
      "        [-1.1519,  0.8189, -1.0854, -0.4523],\n",
      "        [-1.5167,  1.5521, -1.8453, -0.4523],\n",
      "        [-0.0576, -0.3175,  0.2823, -0.4523],\n",
      "        [ 0.4494, -0.5741,  0.1303,  2.2107],\n",
      "        [ 1.2223, -0.9406,  0.5862, -0.4523],\n",
      "        [-0.3173,  0.1591,  0.0543, -0.4523],\n",
      "        [ 1.3459, -0.9406,  0.0543,  2.2107],\n",
      "        [ 0.8822, -0.7207,  0.8902,  2.2107],\n",
      "        [-0.6635,  0.4523, -1.0094, -0.4523],\n",
      "        [ 0.4494, -0.6474,  1.3461,  2.2107],\n",
      "        [-0.1380, -0.0975,  0.7382, -0.4523],\n",
      "        [-0.0761, -0.3175, -0.9335, -0.4523],\n",
      "        [-1.7826,  2.6151, -1.2374, -0.4523],\n",
      "        [ 0.4123, -0.5007,  0.9661, -0.4523],\n",
      "        [-0.9912,  0.8189, -1.0854, -0.4523],\n",
      "        [-0.7439,  0.8189, -0.6295, -0.4523],\n",
      "        [ 0.8822, -0.5741, -0.1736,  2.2107],\n",
      "        [-0.6635,  0.3057, -0.0217, -0.4523],\n",
      "        [-0.4409,  0.3057,  0.4343, -0.4523],\n",
      "        [ 1.1852, -0.7940, -0.0976, -0.4523],\n",
      "        [ 2.0755, -1.3072,  2.7138, -0.4523],\n",
      "        [-0.7439,  0.6356, -0.4776, -0.4523],\n",
      "        [ 1.9951, -1.1972,  2.0299, -0.4523],\n",
      "        [ 0.4927, -0.6474,  0.7382,  2.2107],\n",
      "        [ 0.6349, -0.7207,  0.6622,  2.2107],\n",
      "        [ 0.6967, -0.5741,  0.9661, -0.4523],\n",
      "        [ 0.4123, -0.5741,  0.5862, -0.4523],\n",
      "        [ 0.6534, -0.7207,  1.8020, -0.4523],\n",
      "        [-1.5600,  1.5521, -0.7815, -0.4523],\n",
      "        [ 1.4881, -0.9773,  0.7382, -0.4523],\n",
      "        [ 1.5932, -0.9406,  0.2823,  2.2107],\n",
      "        [-1.5414,  1.5521, -1.6933, -0.4523],\n",
      "        [ 0.2268, -0.5741,  1.4221, -0.4523],\n",
      "        [ 0.1094, -0.3175,  0.1303, -0.4523],\n",
      "        [-1.8444,  2.2119, -1.3894, -0.4523],\n",
      "        [-0.0761, -0.2075, -0.8575, -0.4523],\n",
      "        [-1.2570,  0.6356, -0.8575, -0.4523],\n",
      "        [ 0.4741, -0.5741,  0.6622, -0.4523],\n",
      "        [ 0.2516, -0.3175, -0.8575, -0.4523],\n",
      "        [ 1.2470, -0.9406,  1.8020,  2.2107],\n",
      "        [-0.0143, -0.3175, -0.7815, -0.4523],\n",
      "        [ 2.3846, -1.3072,  2.7898, -0.4523],\n",
      "        [ 0.0228, -0.4274, -0.3256, -0.4523],\n",
      "        [ 0.6967, -0.7207,  0.8142,  2.2107],\n",
      "        [-1.2570,  0.8189, -0.2496, -0.4523],\n",
      "        [-1.4796,  1.5521, -1.5413, -0.4523],\n",
      "        [-1.9680,  2.2119, -1.3134, -0.4523],\n",
      "        [-0.0947, -0.0975, -0.4776, -0.4523],\n",
      "        [-0.2987,  0.1591, -0.4016, -0.4523],\n",
      "        [-1.3992,  1.2955, -1.5413, -0.4523],\n",
      "        [-0.1565, -0.2075, -0.0976, -0.4523],\n",
      "        [ 0.4741, -0.5007, -0.1736, -0.4523],\n",
      "        [ 1.1233, -0.7940,  0.6622,  2.2107],\n",
      "        [ 0.7153, -0.6474, -0.3256, -0.4523],\n",
      "        [-0.1750,  0.1591,  0.4343, -0.4523],\n",
      "        [-0.4224,  0.0125, -0.6295, -0.4523],\n",
      "        [-0.2183,  0.0125, -0.3256, -0.4523],\n",
      "        [-0.9912,  0.8189, -0.9335, -0.4523],\n",
      "        [-0.6449,  0.1591, -1.1614, -0.4523],\n",
      "        [ 0.5731, -0.7207,  0.4343,  2.2107],\n",
      "        [ 0.5731, -0.6474, -0.4776, -0.4523],\n",
      "        [ 1.5067, -1.1606,  1.3461, -0.4523],\n",
      "        [-1.6218,  1.8453, -1.0094, -0.4523],\n",
      "        [ 0.1650, -0.5007, -0.6295, -0.4523],\n",
      "        [ 0.8822, -0.5741,  0.6622,  2.2107],\n",
      "        [ 1.0430, -0.7940,  0.2823, -0.4523],\n",
      "        [-1.2137,  0.8189, -1.5413, -0.4523],\n",
      "        [ 0.1094, -0.3175, -0.7055, -0.4523],\n",
      "        [ 1.8529, -1.1972,  0.4343, -0.4523],\n",
      "        [-0.3791,  0.1591, -0.9335, -0.4523],\n",
      "        [-1.0715,  1.0389, -0.5535, -0.4523],\n",
      "        [ 0.8389, -0.7207,  0.2823,  2.2107],\n",
      "        [ 0.2701, -0.4274, -0.6295, -0.4523],\n",
      "        [-1.5414,  1.5521, -1.0854, -0.4523],\n",
      "        [ 0.7400, -0.5741,  1.2701, -0.4523],\n",
      "        [ 0.2268, -0.4274, -0.5535, -0.4523],\n",
      "        [ 0.9997, -0.9406,  1.4221,  2.2107],\n",
      "        [ 0.3072, -0.5007, -0.0217, -0.4523],\n",
      "        [ 0.7338, -0.8673,  1.4980, -0.4523],\n",
      "        [ 0.5360, -0.5007, -0.4776, -0.4523],\n",
      "        [ 0.0846, -0.4274, -0.7055, -0.4523],\n",
      "        [ 1.1852, -0.8673,  0.5862, -0.4523],\n",
      "        [ 0.3134, -0.3175,  0.5102, -0.4523],\n",
      "        [ 0.9811, -0.8673, -0.2496,  2.2107],\n",
      "        [ 0.9193, -0.7207,  1.1941,  2.2107],\n",
      "        [-1.0283,  1.0389, -0.4016, -0.4523],\n",
      "        [ 0.0228, -0.5007,  0.7382, -0.4523],\n",
      "        [-1.5600,  1.5521, -1.6173, -0.4523],\n",
      "        [-0.5398,  0.6356, -1.3894, -0.4523],\n",
      "        [ 0.1650, -0.4274, -0.0976, -0.4523],\n",
      "        [-0.4038, -0.2075,  0.5102, -0.4523],\n",
      "        [ 0.0290, -0.2075, -0.9335, -0.4523],\n",
      "        [-0.1565, -0.2075, -0.4016, -0.4523],\n",
      "        [-0.8490,  0.4523, -0.9335, -0.4523],\n",
      "        [-0.1380, -0.2075,  0.5862, -0.4523],\n",
      "        [ 0.6782, -0.6474,  0.3583, -0.4523],\n",
      "        [-1.0901,  1.2955, -0.7815, -0.4523],\n",
      "        [ 0.6163, -0.5741,  0.8142, -0.4523]], dtype=torch.float64)\n"
     ]
    }
   ],
   "source": [
    "for x,y in train_loader:\n",
    "    print(x)\n",
    "    break"
   ]
  },
  {
   "cell_type": "markdown",
   "metadata": {},
   "source": [
    "# Create customize linear_regression Class"
   ]
  },
  {
   "cell_type": "code",
   "execution_count": 20,
   "metadata": {
    "ExecuteTime": {
     "end_time": "2020-05-31T14:18:46.353301Z",
     "start_time": "2020-05-31T14:18:46.345301Z"
    }
   },
   "outputs": [],
   "source": [
    "class LinearReg(nn.Module):\n",
    "    # Constructor\n",
    "    def __init__(self,input_dim,output_dim):\n",
    "        super(LinearReg,self).__init__()\n",
    "        self.layer1=nn.Linear(input_dim,5)\n",
    "        self.layer2=nn.Linear(5,output_dim)\n",
    "    \n",
    "    def forward(self,features):\n",
    "        result1=self.layer1(features)\n",
    "        y_pred=self.layer2(result1)\n",
    "        return y_pred\n",
    "    \n",
    "input_dim=inputs.shape[1]"
   ]
  },
  {
   "cell_type": "markdown",
   "metadata": {},
   "source": [
    "instantiating a linear regression object"
   ]
  },
  {
   "cell_type": "code",
   "execution_count": 21,
   "metadata": {
    "ExecuteTime": {
     "end_time": "2020-05-31T14:18:46.879467Z",
     "start_time": "2020-05-31T14:18:46.873467Z"
    }
   },
   "outputs": [],
   "source": [
    "lreg=LinearReg(input_dim=input_dim,output_dim=1)\n",
    "        "
   ]
  },
  {
   "cell_type": "code",
   "execution_count": 22,
   "metadata": {
    "ExecuteTime": {
     "end_time": "2020-05-31T14:18:47.539297Z",
     "start_time": "2020-05-31T14:18:47.520294Z"
    }
   },
   "outputs": [
    {
     "name": "stdout",
     "output_type": "stream",
     "text": [
      "model parameters:  [Parameter containing:\n",
      "tensor([[-0.1335,  0.2036, -0.1757, -0.4891],\n",
      "        [-0.0160, -0.2079, -0.3261,  0.3302],\n",
      "        [-0.2831, -0.0221, -0.4761,  0.2867],\n",
      "        [ 0.1405,  0.2196, -0.0306,  0.2896],\n",
      "        [ 0.4172,  0.1479, -0.0909,  0.1039]], requires_grad=True), Parameter containing:\n",
      "tensor([ 0.3573,  0.3814,  0.2708,  0.3105, -0.4099], requires_grad=True), Parameter containing:\n",
      "tensor([[-0.2536, -0.1719, -0.4122,  0.3933,  0.0521]], requires_grad=True), Parameter containing:\n",
      "tensor([0.4221], requires_grad=True)]\n"
     ]
    }
   ],
   "source": [
    "# printing the initiazed model parameter\n",
    "\n",
    "print(\"model parameters: \", list(lreg.parameters()))"
   ]
  },
  {
   "cell_type": "code",
   "execution_count": 23,
   "metadata": {
    "ExecuteTime": {
     "end_time": "2020-05-31T14:18:48.485855Z",
     "start_time": "2020-05-31T14:18:48.465860Z"
    },
    "scrolled": false
   },
   "outputs": [
    {
     "name": "stdout",
     "output_type": "stream",
     "text": [
      "model parameters:  OrderedDict([('layer1.weight', tensor([[-0.1335,  0.2036, -0.1757, -0.4891],\n",
      "        [-0.0160, -0.2079, -0.3261,  0.3302],\n",
      "        [-0.2831, -0.0221, -0.4761,  0.2867],\n",
      "        [ 0.1405,  0.2196, -0.0306,  0.2896],\n",
      "        [ 0.4172,  0.1479, -0.0909,  0.1039]])), ('layer1.bias', tensor([ 0.3573,  0.3814,  0.2708,  0.3105, -0.4099])), ('layer2.weight', tensor([[-0.2536, -0.1719, -0.4122,  0.3933,  0.0521]])), ('layer2.bias', tensor([0.4221]))])\n"
     ]
    }
   ],
   "source": [
    "# or\n",
    "print(\"model parameters: \", lreg.state_dict())"
   ]
  },
  {
   "cell_type": "markdown",
   "metadata": {},
   "source": [
    "# defining the loss function to be the mean square error"
   ]
  },
  {
   "cell_type": "code",
   "execution_count": 24,
   "metadata": {
    "ExecuteTime": {
     "end_time": "2020-05-31T14:18:49.246470Z",
     "start_time": "2020-05-31T14:18:49.241474Z"
    }
   },
   "outputs": [],
   "source": [
    "loss_fun=nn.MSELoss()"
   ]
  },
  {
   "cell_type": "markdown",
   "metadata": {},
   "source": [
    "# using socastic gradient descent as our optimizing algorithm\n",
    "\n",
    "this is the algorithm that will be used in updating the model parameters with a learning rate of .01"
   ]
  },
  {
   "cell_type": "code",
   "execution_count": 25,
   "metadata": {
    "ExecuteTime": {
     "end_time": "2020-05-31T14:18:50.091261Z",
     "start_time": "2020-05-31T14:18:50.086259Z"
    }
   },
   "outputs": [],
   "source": [
    "opt=torch.optim.SGD(lreg.parameters(),lr=0.01)"
   ]
  },
  {
   "cell_type": "code",
   "execution_count": 26,
   "metadata": {
    "ExecuteTime": {
     "end_time": "2020-05-31T14:18:50.987507Z",
     "start_time": "2020-05-31T14:18:50.188261Z"
    },
    "scrolled": true
   },
   "outputs": [
    {
     "name": "stdout",
     "output_type": "stream",
     "text": [
      "epoch:  0 loss: 694.35314941\n",
      "epoch:  0 loss: 610.90216064\n",
      "epoch:  0 loss: 531.80322266\n",
      "epoch:  0 loss: 542.53588867\n",
      "epoch:  1 loss: 369.23580933\n",
      "epoch:  1 loss: 217.99409485\n",
      "epoch:  1 loss: 75.90906525\n",
      "epoch:  1 loss: 31.99175453\n",
      "epoch:  2 loss: 12.53457546\n",
      "epoch:  2 loss: 3.83255792\n",
      "epoch:  2 loss: 2.71010613\n",
      "epoch:  2 loss: 2.44981170\n",
      "epoch:  3 loss: 1.66713023\n",
      "epoch:  3 loss: 1.98738217\n",
      "epoch:  3 loss: 1.37931633\n",
      "epoch:  3 loss: 2.33996224\n",
      "epoch:  4 loss: 2.19842529\n",
      "epoch:  4 loss: 1.35907567\n",
      "epoch:  4 loss: 1.70311618\n",
      "epoch:  4 loss: 1.17119300\n",
      "epoch:  5 loss: 1.25683868\n",
      "epoch:  5 loss: 1.45862043\n",
      "epoch:  5 loss: 1.16225731\n",
      "epoch:  5 loss: 1.17430055\n",
      "epoch:  6 loss: 1.54274523\n",
      "epoch:  6 loss: 1.11405516\n",
      "epoch:  6 loss: 1.33338952\n",
      "epoch:  6 loss: 1.03605998\n",
      "epoch:  7 loss: 0.86636662\n",
      "epoch:  7 loss: 0.85511351\n",
      "epoch:  7 loss: 1.17178643\n",
      "epoch:  7 loss: 1.33584321\n",
      "epoch:  8 loss: 1.34863687\n",
      "epoch:  8 loss: 0.84771365\n",
      "epoch:  8 loss: 0.87273866\n",
      "epoch:  8 loss: 0.89995068\n",
      "epoch:  9 loss: 0.91744459\n",
      "epoch:  9 loss: 0.82300323\n",
      "epoch:  9 loss: 1.38601041\n",
      "epoch:  9 loss: 0.84382731\n",
      "epoch: 10 loss: 0.84684676\n",
      "epoch: 10 loss: 1.18945205\n",
      "epoch: 10 loss: 1.14496696\n",
      "epoch: 10 loss: 0.91892755\n",
      "epoch: 11 loss: 1.18274856\n",
      "epoch: 11 loss: 0.91070127\n",
      "epoch: 11 loss: 0.84787089\n",
      "epoch: 11 loss: 0.91542500\n",
      "epoch: 12 loss: 0.83412451\n",
      "epoch: 12 loss: 0.93623769\n",
      "epoch: 12 loss: 1.15476596\n",
      "epoch: 12 loss: 0.89186889\n",
      "epoch: 13 loss: 0.87966740\n",
      "epoch: 13 loss: 1.08636820\n",
      "epoch: 13 loss: 0.93206376\n",
      "epoch: 13 loss: 0.99477333\n",
      "epoch: 14 loss: 0.81421554\n",
      "epoch: 14 loss: 0.87183911\n",
      "epoch: 14 loss: 1.10454512\n",
      "epoch: 14 loss: 0.93443084\n",
      "epoch: 15 loss: 0.85660654\n",
      "epoch: 15 loss: 1.04664683\n",
      "epoch: 15 loss: 0.95987427\n",
      "epoch: 15 loss: 0.77610636\n",
      "epoch: 16 loss: 0.71566558\n",
      "epoch: 16 loss: 0.81049639\n",
      "epoch: 16 loss: 1.08515000\n",
      "epoch: 16 loss: 0.90551311\n",
      "epoch: 17 loss: 0.83803535\n",
      "epoch: 17 loss: 0.81583846\n",
      "epoch: 17 loss: 0.99015230\n",
      "epoch: 17 loss: 0.90601474\n",
      "epoch: 18 loss: 0.79261291\n",
      "epoch: 18 loss: 0.95686609\n",
      "epoch: 18 loss: 1.03044760\n",
      "epoch: 18 loss: 0.65478498\n",
      "epoch: 19 loss: 0.93850696\n",
      "epoch: 19 loss: 0.73046088\n",
      "epoch: 19 loss: 0.92780745\n",
      "epoch: 19 loss: 0.94924825\n",
      "epoch: 20 loss: 0.82535839\n",
      "epoch: 20 loss: 0.96434057\n",
      "epoch: 20 loss: 0.87511641\n",
      "epoch: 20 loss: 0.79520464\n"
     ]
    }
   ],
   "source": [
    "Loss=[]\n",
    " \n",
    "num_epochs=20\n",
    "   \n",
    "for epoch in range(num_epochs+1):\n",
    "    for x,y in train_loader:\n",
    "        #make a prediction usinf the created model\n",
    "        yhat=lreg(x.float())\n",
    "        #calculate the loss\n",
    "        loss=loss_fun(yhat,y.float())\n",
    "        #store loss  \n",
    "        Loss.append(loss.item())\n",
    "        print(f'epoch: {epoch:2} loss: {loss.item():3.8f}')\n",
    "        #clear or zero the gradient \n",
    "        opt.zero_grad()\n",
    "        #Backward pass: compute gradient of the loss with respect to all the learnable parameters\n",
    "        loss.backward()\n",
    "        #update the model parameters\n",
    "        opt.step()\n",
    "    "
   ]
  },
  {
   "cell_type": "code",
   "execution_count": 27,
   "metadata": {
    "ExecuteTime": {
     "end_time": "2020-05-31T14:18:51.000520Z",
     "start_time": "2020-05-31T14:18:50.992508Z"
    }
   },
   "outputs": [
    {
     "data": {
      "text/plain": [
       "<bound method Module.named_parameters of LinearReg(\n",
       "  (layer1): Linear(in_features=4, out_features=5, bias=True)\n",
       "  (layer2): Linear(in_features=5, out_features=1, bias=True)\n",
       ")>"
      ]
     },
     "execution_count": 27,
     "metadata": {},
     "output_type": "execute_result"
    }
   ],
   "source": [
    "lreg.named_parameters"
   ]
  },
  {
   "cell_type": "code",
   "execution_count": 28,
   "metadata": {
    "ExecuteTime": {
     "end_time": "2020-05-31T14:18:51.193513Z",
     "start_time": "2020-05-31T14:18:51.006514Z"
    }
   },
   "outputs": [
    {
     "data": {
      "image/png": "[encoded data removed]",
      "text/plain": [
       "<Figure size 432x288 with 1 Axes>"
      ]
     },
     "metadata": {},
     "output_type": "display_data"
    }
   ],
   "source": [
    "plt.plot(Loss)\n",
    "plt.title('loss curve')\n",
    "plt.ylabel(\"toal loss \")\n",
    "plt.show()"
   ]
  },
  {
   "cell_type": "markdown",
   "metadata": {},
   "source": [
    "# NOTE\n",
    "in real application you need to evaluate with unseen data to see  how the model performs on newly unseen data"
   ]
  },
  {
   "cell_type": "code",
   "execution_count": null,
   "metadata": {},
   "outputs": [],
   "source": []
  },
  {
   "cell_type": "code",
   "execution_count": null,
   "metadata": {},
   "outputs": [],
   "source": []
  }
 ],
 "metadata": {
  "kernelspec": {
   "display_name": "Python 3",
   "language": "python",
   "name": "python3"
  },
  "language_info": {
   "codemirror_mode": {
    "name": "ipython",
    "version": 3
   },
   "file_extension": ".py",
   "mimetype": "text/x-python",
   "name": "python",
   "nbconvert_exporter": "python",
   "pygments_lexer": "ipython3",
   "version": "3.6.5"
  }
 },
 "nbformat": 4,
 "nbformat_minor": 2
}
