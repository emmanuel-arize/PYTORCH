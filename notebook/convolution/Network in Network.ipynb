{
 "cells": [
  {
   "cell_type": "markdown",
   "metadata": {
    "toc": true
   },
   "source": [
    "<h1>Table of Contents<span class=\"tocSkip\"></span></h1>\n",
    "<div class=\"toc\"><ul class=\"toc-item\"><li><span><a href=\"#Network-in-Network-(NiN)-BLOCK\" data-toc-modified-id=\"Network-in-Network-(NiN)-BLOCK-1\"><span class=\"toc-item-num\">1&nbsp;&nbsp;</span>Network in Network (NiN) BLOCK</a></span></li></ul></div>"
   ]
  },
  {
   "cell_type": "code",
   "execution_count": 1,
   "metadata": {},
   "outputs": [],
   "source": [
    "import torch\n",
    "from torchsummary import summary\n",
    "import torch.nn.functional as F\n",
    "from torch import nn"
   ]
  },
  {
   "cell_type": "markdown",
   "metadata": {},
   "source": [
    "##  Network in Network (NiN) BLOCK\n",
    "<img src='../images/nin.jpg'/>\n",
    "The NiN block consists of one convolutional layer followed by two 1 × 1 convolutional layers that\n",
    "act as per-pixel fully-connected layers with ReLU activations. The convolution width of the first\n",
    "layer is typically set by the user. The subsequent widths are fixed to 1 × 1"
   ]
  },
  {
   "cell_type": "code",
   "execution_count": 2,
   "metadata": {},
   "outputs": [],
   "source": [
    "def nin_block(in_channels, out_channels, kernel_size, strides, padding):\n",
    "    return nn.Sequential(\n",
    "        nn.Conv2d(in_channels, out_channels, kernel_size, strides, padding),\n",
    "        nn.ReLU(),\n",
    "        nn.Conv2d(out_channels, out_channels, kernel_size=1), nn.ReLU(),\n",
    "        nn.Conv2d(out_channels, out_channels, kernel_size=1), nn.ReLU())"
   ]
  },
  {
   "cell_type": "code",
   "execution_count": 3,
   "metadata": {},
   "outputs": [],
   "source": [
    "nin=nn.Sequential(\n",
    "  nin_block(in_channels=1,out_channels=96,kernel_size=11,strides=4,padding=0),\n",
    "    nn.MaxPool2d(kernel_size=3,stride=2),\n",
    "    nin_block(in_channels=96,out_channels=256,kernel_size=5,strides=1,padding=2),\n",
    "    nn.MaxPool2d(kernel_size=3,stride=2),\n",
    "    nin_block(in_channels=256,out_channels=384,kernel_size=5,strides=1,padding=1),\n",
    "    nn.MaxPool2d(kernel_size=3,stride=2),\n",
    "    nn.Dropout(0.5),\n",
    "    nin_block(in_channels=384,out_channels=10,kernel_size=3,strides=1,padding=2),\n",
    "    nn.AdaptiveAvgPool2d((1,1)),\n",
    "    nn.Flatten()\n",
    "    \n",
    ")"
   ]
  },
  {
   "cell_type": "code",
   "execution_count": 5,
   "metadata": {},
   "outputs": [
    {
     "name": "stdout",
     "output_type": "stream",
     "text": [
      "Sequential output shape:\t torch.Size([1, 96, 54, 54])\n",
      "MaxPool2d output shape:\t torch.Size([1, 96, 26, 26])\n",
      "Sequential output shape:\t torch.Size([1, 256, 26, 26])\n",
      "MaxPool2d output shape:\t torch.Size([1, 256, 12, 12])\n",
      "Sequential output shape:\t torch.Size([1, 384, 10, 10])\n",
      "MaxPool2d output shape:\t torch.Size([1, 384, 4, 4])\n",
      "Dropout output shape:\t torch.Size([1, 384, 4, 4])\n",
      "Sequential output shape:\t torch.Size([1, 10, 6, 6])\n",
      "AdaptiveAvgPool2d output shape:\t torch.Size([1, 10, 1, 1])\n",
      "Flatten output shape:\t torch.Size([1, 10])\n"
     ]
    }
   ],
   "source": [
    "X = torch.randn(size=(1, 1, 224, 224))\n",
    "for layer in nin:\n",
    "    X = layer(X)\n",
    "    print(layer.__class__.__name__, 'output shape:\\t', X.shape)"
   ]
  },
  {
   "cell_type": "code",
   "execution_count": 6,
   "metadata": {},
   "outputs": [
    {
     "name": "stdout",
     "output_type": "stream",
     "text": [
      "==========================================================================================\n",
      "Layer (type:depth-idx)                   Output Shape              Param #\n",
      "==========================================================================================\n",
      "├─Sequential: 1-1                        [-1, 96, 54, 54]          --\n",
      "|    └─Conv2d: 2-1                       [-1, 96, 54, 54]          11,712\n",
      "|    └─ReLU: 2-2                         [-1, 96, 54, 54]          --\n",
      "|    └─Conv2d: 2-3                       [-1, 96, 54, 54]          9,312\n",
      "|    └─ReLU: 2-4                         [-1, 96, 54, 54]          --\n",
      "|    └─Conv2d: 2-5                       [-1, 96, 54, 54]          9,312\n",
      "|    └─ReLU: 2-6                         [-1, 96, 54, 54]          --\n",
      "├─MaxPool2d: 1-2                         [-1, 96, 26, 26]          --\n",
      "├─Sequential: 1-3                        [-1, 256, 26, 26]         --\n",
      "|    └─Conv2d: 2-7                       [-1, 256, 26, 26]         614,656\n",
      "|    └─ReLU: 2-8                         [-1, 256, 26, 26]         --\n",
      "|    └─Conv2d: 2-9                       [-1, 256, 26, 26]         65,792\n",
      "|    └─ReLU: 2-10                        [-1, 256, 26, 26]         --\n",
      "|    └─Conv2d: 2-11                      [-1, 256, 26, 26]         65,792\n",
      "|    └─ReLU: 2-12                        [-1, 256, 26, 26]         --\n",
      "├─MaxPool2d: 1-4                         [-1, 256, 12, 12]         --\n",
      "├─Sequential: 1-5                        [-1, 384, 10, 10]         --\n",
      "|    └─Conv2d: 2-13                      [-1, 384, 10, 10]         2,457,984\n",
      "|    └─ReLU: 2-14                        [-1, 384, 10, 10]         --\n",
      "|    └─Conv2d: 2-15                      [-1, 384, 10, 10]         147,840\n",
      "|    └─ReLU: 2-16                        [-1, 384, 10, 10]         --\n",
      "|    └─Conv2d: 2-17                      [-1, 384, 10, 10]         147,840\n",
      "|    └─ReLU: 2-18                        [-1, 384, 10, 10]         --\n",
      "├─MaxPool2d: 1-6                         [-1, 384, 4, 4]           --\n",
      "├─Dropout: 1-7                           [-1, 384, 4, 4]           --\n",
      "├─Sequential: 1-8                        [-1, 10, 6, 6]            --\n",
      "|    └─Conv2d: 2-19                      [-1, 10, 6, 6]            34,570\n",
      "|    └─ReLU: 2-20                        [-1, 10, 6, 6]            --\n",
      "|    └─Conv2d: 2-21                      [-1, 10, 6, 6]            110\n",
      "|    └─ReLU: 2-22                        [-1, 10, 6, 6]            --\n",
      "|    └─Conv2d: 2-23                      [-1, 10, 6, 6]            110\n",
      "|    └─ReLU: 2-24                        [-1, 10, 6, 6]            --\n",
      "├─AdaptiveAvgPool2d: 1-9                 [-1, 10, 1, 1]            --\n",
      "├─Flatten: 1-10                          [-1, 10]                  --\n",
      "==========================================================================================\n",
      "Total params: 3,565,030\n",
      "Trainable params: 3,565,030\n",
      "Non-trainable params: 0\n",
      "Total mult-adds (M): 871.62\n",
      "==========================================================================================\n",
      "Input size (MB): 0.19\n",
      "Forward/backward pass size (MB): 11.26\n",
      "Params size (MB): 13.60\n",
      "Estimated Total Size (MB): 25.05\n",
      "==========================================================================================\n"
     ]
    },
    {
     "data": {
      "text/plain": [
       "==========================================================================================\n",
       "Layer (type:depth-idx)                   Output Shape              Param #\n",
       "==========================================================================================\n",
       "├─Sequential: 1-1                        [-1, 96, 54, 54]          --\n",
       "|    └─Conv2d: 2-1                       [-1, 96, 54, 54]          11,712\n",
       "|    └─ReLU: 2-2                         [-1, 96, 54, 54]          --\n",
       "|    └─Conv2d: 2-3                       [-1, 96, 54, 54]          9,312\n",
       "|    └─ReLU: 2-4                         [-1, 96, 54, 54]          --\n",
       "|    └─Conv2d: 2-5                       [-1, 96, 54, 54]          9,312\n",
       "|    └─ReLU: 2-6                         [-1, 96, 54, 54]          --\n",
       "├─MaxPool2d: 1-2                         [-1, 96, 26, 26]          --\n",
       "├─Sequential: 1-3                        [-1, 256, 26, 26]         --\n",
       "|    └─Conv2d: 2-7                       [-1, 256, 26, 26]         614,656\n",
       "|    └─ReLU: 2-8                         [-1, 256, 26, 26]         --\n",
       "|    └─Conv2d: 2-9                       [-1, 256, 26, 26]         65,792\n",
       "|    └─ReLU: 2-10                        [-1, 256, 26, 26]         --\n",
       "|    └─Conv2d: 2-11                      [-1, 256, 26, 26]         65,792\n",
       "|    └─ReLU: 2-12                        [-1, 256, 26, 26]         --\n",
       "├─MaxPool2d: 1-4                         [-1, 256, 12, 12]         --\n",
       "├─Sequential: 1-5                        [-1, 384, 10, 10]         --\n",
       "|    └─Conv2d: 2-13                      [-1, 384, 10, 10]         2,457,984\n",
       "|    └─ReLU: 2-14                        [-1, 384, 10, 10]         --\n",
       "|    └─Conv2d: 2-15                      [-1, 384, 10, 10]         147,840\n",
       "|    └─ReLU: 2-16                        [-1, 384, 10, 10]         --\n",
       "|    └─Conv2d: 2-17                      [-1, 384, 10, 10]         147,840\n",
       "|    └─ReLU: 2-18                        [-1, 384, 10, 10]         --\n",
       "├─MaxPool2d: 1-6                         [-1, 384, 4, 4]           --\n",
       "├─Dropout: 1-7                           [-1, 384, 4, 4]           --\n",
       "├─Sequential: 1-8                        [-1, 10, 6, 6]            --\n",
       "|    └─Conv2d: 2-19                      [-1, 10, 6, 6]            34,570\n",
       "|    └─ReLU: 2-20                        [-1, 10, 6, 6]            --\n",
       "|    └─Conv2d: 2-21                      [-1, 10, 6, 6]            110\n",
       "|    └─ReLU: 2-22                        [-1, 10, 6, 6]            --\n",
       "|    └─Conv2d: 2-23                      [-1, 10, 6, 6]            110\n",
       "|    └─ReLU: 2-24                        [-1, 10, 6, 6]            --\n",
       "├─AdaptiveAvgPool2d: 1-9                 [-1, 10, 1, 1]            --\n",
       "├─Flatten: 1-10                          [-1, 10]                  --\n",
       "==========================================================================================\n",
       "Total params: 3,565,030\n",
       "Trainable params: 3,565,030\n",
       "Non-trainable params: 0\n",
       "Total mult-adds (M): 871.62\n",
       "==========================================================================================\n",
       "Input size (MB): 0.19\n",
       "Forward/backward pass size (MB): 11.26\n",
       "Params size (MB): 13.60\n",
       "Estimated Total Size (MB): 25.05\n",
       "=========================================================================================="
      ]
     },
     "execution_count": 6,
     "metadata": {},
     "output_type": "execute_result"
    }
   ],
   "source": [
    "X = torch.randn(size=(1, 1, 224, 224))\n",
    "summary(nin,X)"
   ]
  },
  {
   "cell_type": "code",
   "execution_count": null,
   "metadata": {},
   "outputs": [],
   "source": []
  }
 ],
 "metadata": {
  "kernelspec": {
   "display_name": "Python 3",
   "language": "python",
   "name": "python3"
  },
  "language_info": {
   "codemirror_mode": {
    "name": "ipython",
    "version": 3
   },
   "file_extension": ".py",
   "mimetype": "text/x-python",
   "name": "python",
   "nbconvert_exporter": "python",
   "pygments_lexer": "ipython3",
   "version": "3.6.5"
  },
  "latex_envs": {
   "LaTeX_envs_menu_present": true,
   "autoclose": false,
   "autocomplete": true,
   "bibliofile": "biblio.bib",
   "cite_by": "apalike",
   "current_citInitial": 1,
   "eqLabelWithNumbers": true,
   "eqNumInitial": 1,
   "hotkeys": {
    "equation": "Ctrl-E",
    "itemize": "Ctrl-I"
   },
   "labels_anchors": false,
   "latex_user_defs": false,
   "report_style_numbering": false,
   "user_envs_cfg": false
  },
  "nbTranslate": {
   "displayLangs": [
    "*"
   ],
   "hotkey": "alt-t",
   "langInMainMenu": true,
   "sourceLang": "en",
   "targetLang": "fr",
   "useGoogleTranslate": true
  },
  "toc": {
   "base_numbering": 1,
   "nav_menu": {},
   "number_sections": true,
   "sideBar": true,
   "skip_h1_title": true,
   "title_cell": "Table of Contents",
   "title_sidebar": "Contents",
   "toc_cell": true,
   "toc_position": {},
   "toc_section_display": true,
   "toc_window_display": true
  }
 },
 "nbformat": 4,
 "nbformat_minor": 2
}
