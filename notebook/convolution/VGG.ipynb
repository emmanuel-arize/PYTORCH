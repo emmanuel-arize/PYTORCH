{
 "cells": [
  {
   "cell_type": "markdown",
   "metadata": {
    "toc": true
   },
   "source": [
    "<h1>Table of Contents<span class=\"tocSkip\"></span></h1>\n",
    "<div class=\"toc\"><ul class=\"toc-item\"><li><span><a href=\"#VGG-Blocks\" data-toc-modified-id=\"VGG-Blocks-1\"><span class=\"toc-item-num\">1&nbsp;&nbsp;</span>VGG Blocks</a></span></li></ul></div>"
   ]
  },
  {
   "cell_type": "code",
   "execution_count": 1,
   "metadata": {},
   "outputs": [],
   "source": [
    "import torch\n",
    "from torchsummary import summary\n",
    "import torch.nn.functional as F\n",
    "from torch import nn"
   ]
  },
  {
   "cell_type": "markdown",
   "metadata": {},
   "source": [
    "## VGG Blocks\n",
    "<img src='../images/vvg.jpg'>\n",
    "The function takes two arguments corresponding to the number of convolutional layers num_convs and the number of output channels num_channels\n",
    "\n",
    "\n",
    "To read more on VGG visit :\n",
    "\n",
    "<a href='https://arxiv.org/pdf/1409.1556.pdf'>VERY DEEP CONVOLUTIONAL NETWORKS FOR LARGE-SCALE IMAGE RECOGNITION</a>"
   ]
  },
  {
   "cell_type": "markdown",
   "metadata": {},
   "source": [
    "<img src='../images/vgg.png'>"
   ]
  },
  {
   "cell_type": "code",
   "execution_count": 2,
   "metadata": {},
   "outputs": [],
   "source": [
    "vgg_1=nn.Sequential(\n",
    "    nn.Conv2d(1,64,kernel_size=3,padding=1),nn.ReLU(),\n",
    "    nn.Conv2d(64,64,kernel_size=3,padding=1),nn.ReLU(),nn.MaxPool2d(kernel_size=2, stride=2),\n",
    "    \n",
    "    nn.Conv2d(64,128,kernel_size=3,padding=1),nn.ReLU(),\n",
    "    nn.Conv2d(128,128,kernel_size=3,padding=1),nn.ReLU(),nn.MaxPool2d(kernel_size=2, stride=2),\n",
    "    \n",
    "    nn.Conv2d(128,256,kernel_size=3,padding=1),nn.ReLU(),\n",
    "    nn.Conv2d(256,256,kernel_size=3,padding=1),nn.ReLU(),\n",
    "    nn.Conv2d(256,256,kernel_size=3,padding=1),nn.ReLU(),nn.MaxPool2d(kernel_size=2, stride=2),\n",
    "    \n",
    "    nn.Conv2d(256,512,kernel_size=3,padding=1),nn.ReLU(),\n",
    "    nn.Conv2d(512,512,kernel_size=3,padding=1),nn.ReLU(),\n",
    "    nn.Conv2d(512,512,kernel_size=3,padding=1),nn.ReLU(),nn.MaxPool2d(kernel_size=2, stride=2),\n",
    "      \n",
    "    nn.Conv2d(512,512,kernel_size=3,padding=1),nn.ReLU(),\n",
    "    nn.Conv2d(512,512,kernel_size=3,padding=1),nn.ReLU(),\n",
    "    nn.Conv2d(512,512,kernel_size=3,padding=1),nn.ReLU(),nn.MaxPool2d(kernel_size=2, stride=2),\n",
    "    nn.Flatten(),\n",
    "        # The fully-connected part\n",
    "    nn.Linear(512 * 7 * 7, 4096), nn.ReLU(), nn.Dropout(0.5),\n",
    "    nn.Linear(4096, 4096), nn.ReLU(), nn.Dropout(0.5),\n",
    "    nn.Linear(4096, 10))"
   ]
  },
  {
   "cell_type": "code",
   "execution_count": 3,
   "metadata": {},
   "outputs": [],
   "source": [
    "def vgg_block(num_convs, in_channels,out_channels):\n",
    "    layers=[]\n",
    "    for _ in range(num_convs):\n",
    "        layers.append(nn.Conv2d(in_channels,out_channels, kernel_size=3,padding=1))\n",
    "        layers.append(nn.ReLU())\n",
    "        in_channels=out_channels\n",
    "    layers.append(nn.MaxPool2d(kernel_size=2, stride=2))\n",
    "    blk=nn.Sequential(*layers)\n",
    "    return blk"
   ]
  },
  {
   "cell_type": "markdown",
   "metadata": {},
   "source": [
    "The original VGG network had 5 convolutional blocks, among which the first two have one convolutional layer each and the latter three contain two convolutional layers each but we will implement the vgg diagram above of which the first two have two convolutional layer each and the latter three contain three convolutional layers each.\n",
    "\n",
    "The first block has 64 output channels and each subsequent block doubles the number of output channels, until that number reaches 512. Since this network uses 8 convolutional layers and 3 fully-connected layers."
   ]
  },
  {
   "cell_type": "code",
   "execution_count": 4,
   "metadata": {},
   "outputs": [],
   "source": [
    "conv_arch = ((2, 64), (2, 128), (3, 256), (3, 512), (3, 512))"
   ]
  },
  {
   "cell_type": "code",
   "execution_count": 5,
   "metadata": {},
   "outputs": [],
   "source": [
    "def vgg(conv_arch):\n",
    "    # The convolutional part\n",
    "    conv_blks=[]\n",
    "    in_channels=1\n",
    "    for (num_convs, out_channels) in conv_arch:\n",
    "        conv_blks.append(vgg_block(num_convs, in_channels, out_channels))\n",
    "        in_channels = out_channels\n",
    "\n",
    "    return nn.Sequential(\n",
    "        *conv_blks, \n",
    "        nn.Flatten(),\n",
    "        # The fully-connected part\n",
    "        nn.Linear(out_channels * 7 * 7, 4096), nn.ReLU(), nn.Dropout(0.5),\n",
    "        nn.Linear(4096, 4096), nn.ReLU(), nn.Dropout(0.5),\n",
    "        nn.Linear(4096, 10))"
   ]
  },
  {
   "cell_type": "markdown",
   "metadata": {},
   "source": [
    "Next, we will construct a single-channel data example with a height and width of 224 to observe\n",
    "the output shape of each layer."
   ]
  },
  {
   "cell_type": "code",
   "execution_count": 6,
   "metadata": {},
   "outputs": [],
   "source": [
    "vgg_2 = vgg(conv_arch)"
   ]
  },
  {
   "cell_type": "code",
   "execution_count": 7,
   "metadata": {},
   "outputs": [
    {
     "name": "stdout",
     "output_type": "stream",
     "text": [
      "==========================================================================================\n",
      "Layer (type:depth-idx)                   Output Shape              Param #\n",
      "==========================================================================================\n",
      "├─Sequential: 1-1                        [-1, 64, 112, 112]        --\n",
      "|    └─Conv2d: 2-1                       [-1, 64, 224, 224]        640\n",
      "|    └─ReLU: 2-2                         [-1, 64, 224, 224]        --\n",
      "|    └─Conv2d: 2-3                       [-1, 64, 224, 224]        36,928\n",
      "|    └─ReLU: 2-4                         [-1, 64, 224, 224]        --\n",
      "|    └─MaxPool2d: 2-5                    [-1, 64, 112, 112]        --\n",
      "├─Sequential: 1-2                        [-1, 128, 56, 56]         --\n",
      "|    └─Conv2d: 2-6                       [-1, 128, 112, 112]       73,856\n",
      "|    └─ReLU: 2-7                         [-1, 128, 112, 112]       --\n",
      "|    └─Conv2d: 2-8                       [-1, 128, 112, 112]       147,584\n",
      "|    └─ReLU: 2-9                         [-1, 128, 112, 112]       --\n",
      "|    └─MaxPool2d: 2-10                   [-1, 128, 56, 56]         --\n",
      "├─Sequential: 1-3                        [-1, 256, 28, 28]         --\n",
      "|    └─Conv2d: 2-11                      [-1, 256, 56, 56]         295,168\n",
      "|    └─ReLU: 2-12                        [-1, 256, 56, 56]         --\n",
      "|    └─Conv2d: 2-13                      [-1, 256, 56, 56]         590,080\n",
      "|    └─ReLU: 2-14                        [-1, 256, 56, 56]         --\n",
      "|    └─Conv2d: 2-15                      [-1, 256, 56, 56]         590,080\n",
      "|    └─ReLU: 2-16                        [-1, 256, 56, 56]         --\n",
      "|    └─MaxPool2d: 2-17                   [-1, 256, 28, 28]         --\n",
      "├─Sequential: 1-4                        [-1, 512, 14, 14]         --\n",
      "|    └─Conv2d: 2-18                      [-1, 512, 28, 28]         1,180,160\n",
      "|    └─ReLU: 2-19                        [-1, 512, 28, 28]         --\n",
      "|    └─Conv2d: 2-20                      [-1, 512, 28, 28]         2,359,808\n",
      "|    └─ReLU: 2-21                        [-1, 512, 28, 28]         --\n",
      "|    └─Conv2d: 2-22                      [-1, 512, 28, 28]         2,359,808\n",
      "|    └─ReLU: 2-23                        [-1, 512, 28, 28]         --\n",
      "|    └─MaxPool2d: 2-24                   [-1, 512, 14, 14]         --\n",
      "├─Sequential: 1-5                        [-1, 512, 7, 7]           --\n",
      "|    └─Conv2d: 2-25                      [-1, 512, 14, 14]         2,359,808\n",
      "|    └─ReLU: 2-26                        [-1, 512, 14, 14]         --\n",
      "|    └─Conv2d: 2-27                      [-1, 512, 14, 14]         2,359,808\n",
      "|    └─ReLU: 2-28                        [-1, 512, 14, 14]         --\n",
      "|    └─Conv2d: 2-29                      [-1, 512, 14, 14]         2,359,808\n",
      "|    └─ReLU: 2-30                        [-1, 512, 14, 14]         --\n",
      "|    └─MaxPool2d: 2-31                   [-1, 512, 7, 7]           --\n",
      "├─Flatten: 1-6                           [-1, 25088]               --\n",
      "├─Linear: 1-7                            [-1, 4096]                102,764,544\n",
      "├─ReLU: 1-8                              [-1, 4096]                --\n",
      "├─Dropout: 1-9                           [-1, 4096]                --\n",
      "├─Linear: 1-10                           [-1, 4096]                16,781,312\n",
      "├─ReLU: 1-11                             [-1, 4096]                --\n",
      "├─Dropout: 1-12                          [-1, 4096]                --\n",
      "├─Linear: 1-13                           [-1, 10]                  40,970\n",
      "==========================================================================================\n",
      "Total params: 134,300,362\n",
      "Trainable params: 134,300,362\n",
      "Non-trainable params: 0\n",
      "Total mult-adds (G): 15.42\n",
      "==========================================================================================\n",
      "Input size (MB): 0.19\n",
      "Forward/backward pass size (MB): 103.42\n",
      "Params size (MB): 512.32\n",
      "Estimated Total Size (MB): 615.93\n",
      "==========================================================================================\n"
     ]
    },
    {
     "data": {
      "text/plain": [
       "==========================================================================================\n",
       "Layer (type:depth-idx)                   Output Shape              Param #\n",
       "==========================================================================================\n",
       "├─Sequential: 1-1                        [-1, 64, 112, 112]        --\n",
       "|    └─Conv2d: 2-1                       [-1, 64, 224, 224]        640\n",
       "|    └─ReLU: 2-2                         [-1, 64, 224, 224]        --\n",
       "|    └─Conv2d: 2-3                       [-1, 64, 224, 224]        36,928\n",
       "|    └─ReLU: 2-4                         [-1, 64, 224, 224]        --\n",
       "|    └─MaxPool2d: 2-5                    [-1, 64, 112, 112]        --\n",
       "├─Sequential: 1-2                        [-1, 128, 56, 56]         --\n",
       "|    └─Conv2d: 2-6                       [-1, 128, 112, 112]       73,856\n",
       "|    └─ReLU: 2-7                         [-1, 128, 112, 112]       --\n",
       "|    └─Conv2d: 2-8                       [-1, 128, 112, 112]       147,584\n",
       "|    └─ReLU: 2-9                         [-1, 128, 112, 112]       --\n",
       "|    └─MaxPool2d: 2-10                   [-1, 128, 56, 56]         --\n",
       "├─Sequential: 1-3                        [-1, 256, 28, 28]         --\n",
       "|    └─Conv2d: 2-11                      [-1, 256, 56, 56]         295,168\n",
       "|    └─ReLU: 2-12                        [-1, 256, 56, 56]         --\n",
       "|    └─Conv2d: 2-13                      [-1, 256, 56, 56]         590,080\n",
       "|    └─ReLU: 2-14                        [-1, 256, 56, 56]         --\n",
       "|    └─Conv2d: 2-15                      [-1, 256, 56, 56]         590,080\n",
       "|    └─ReLU: 2-16                        [-1, 256, 56, 56]         --\n",
       "|    └─MaxPool2d: 2-17                   [-1, 256, 28, 28]         --\n",
       "├─Sequential: 1-4                        [-1, 512, 14, 14]         --\n",
       "|    └─Conv2d: 2-18                      [-1, 512, 28, 28]         1,180,160\n",
       "|    └─ReLU: 2-19                        [-1, 512, 28, 28]         --\n",
       "|    └─Conv2d: 2-20                      [-1, 512, 28, 28]         2,359,808\n",
       "|    └─ReLU: 2-21                        [-1, 512, 28, 28]         --\n",
       "|    └─Conv2d: 2-22                      [-1, 512, 28, 28]         2,359,808\n",
       "|    └─ReLU: 2-23                        [-1, 512, 28, 28]         --\n",
       "|    └─MaxPool2d: 2-24                   [-1, 512, 14, 14]         --\n",
       "├─Sequential: 1-5                        [-1, 512, 7, 7]           --\n",
       "|    └─Conv2d: 2-25                      [-1, 512, 14, 14]         2,359,808\n",
       "|    └─ReLU: 2-26                        [-1, 512, 14, 14]         --\n",
       "|    └─Conv2d: 2-27                      [-1, 512, 14, 14]         2,359,808\n",
       "|    └─ReLU: 2-28                        [-1, 512, 14, 14]         --\n",
       "|    └─Conv2d: 2-29                      [-1, 512, 14, 14]         2,359,808\n",
       "|    └─ReLU: 2-30                        [-1, 512, 14, 14]         --\n",
       "|    └─MaxPool2d: 2-31                   [-1, 512, 7, 7]           --\n",
       "├─Flatten: 1-6                           [-1, 25088]               --\n",
       "├─Linear: 1-7                            [-1, 4096]                102,764,544\n",
       "├─ReLU: 1-8                              [-1, 4096]                --\n",
       "├─Dropout: 1-9                           [-1, 4096]                --\n",
       "├─Linear: 1-10                           [-1, 4096]                16,781,312\n",
       "├─ReLU: 1-11                             [-1, 4096]                --\n",
       "├─Dropout: 1-12                          [-1, 4096]                --\n",
       "├─Linear: 1-13                           [-1, 10]                  40,970\n",
       "==========================================================================================\n",
       "Total params: 134,300,362\n",
       "Trainable params: 134,300,362\n",
       "Non-trainable params: 0\n",
       "Total mult-adds (G): 15.42\n",
       "==========================================================================================\n",
       "Input size (MB): 0.19\n",
       "Forward/backward pass size (MB): 103.42\n",
       "Params size (MB): 512.32\n",
       "Estimated Total Size (MB): 615.93\n",
       "=========================================================================================="
      ]
     },
     "execution_count": 7,
     "metadata": {},
     "output_type": "execute_result"
    }
   ],
   "source": [
    "X = torch.randn(size=(1, 1, 224, 224))\n",
    "summary(vgg_2,X)"
   ]
  },
  {
   "cell_type": "code",
   "execution_count": 8,
   "metadata": {},
   "outputs": [
    {
     "name": "stdout",
     "output_type": "stream",
     "text": [
      "==========================================================================================\n",
      "Layer (type:depth-idx)                   Output Shape              Param #\n",
      "==========================================================================================\n",
      "├─Conv2d: 1-1                            [-1, 64, 224, 224]        640\n",
      "├─ReLU: 1-2                              [-1, 64, 224, 224]        --\n",
      "├─Conv2d: 1-3                            [-1, 64, 224, 224]        36,928\n",
      "├─ReLU: 1-4                              [-1, 64, 224, 224]        --\n",
      "├─MaxPool2d: 1-5                         [-1, 64, 112, 112]        --\n",
      "├─Conv2d: 1-6                            [-1, 128, 112, 112]       73,856\n",
      "├─ReLU: 1-7                              [-1, 128, 112, 112]       --\n",
      "├─Conv2d: 1-8                            [-1, 128, 112, 112]       147,584\n",
      "├─ReLU: 1-9                              [-1, 128, 112, 112]       --\n",
      "├─MaxPool2d: 1-10                        [-1, 128, 56, 56]         --\n",
      "├─Conv2d: 1-11                           [-1, 256, 56, 56]         295,168\n",
      "├─ReLU: 1-12                             [-1, 256, 56, 56]         --\n",
      "├─Conv2d: 1-13                           [-1, 256, 56, 56]         590,080\n",
      "├─ReLU: 1-14                             [-1, 256, 56, 56]         --\n",
      "├─Conv2d: 1-15                           [-1, 256, 56, 56]         590,080\n",
      "├─ReLU: 1-16                             [-1, 256, 56, 56]         --\n",
      "├─MaxPool2d: 1-17                        [-1, 256, 28, 28]         --\n",
      "├─Conv2d: 1-18                           [-1, 512, 28, 28]         1,180,160\n",
      "├─ReLU: 1-19                             [-1, 512, 28, 28]         --\n",
      "├─Conv2d: 1-20                           [-1, 512, 28, 28]         2,359,808\n",
      "├─ReLU: 1-21                             [-1, 512, 28, 28]         --\n",
      "├─Conv2d: 1-22                           [-1, 512, 28, 28]         2,359,808\n",
      "├─ReLU: 1-23                             [-1, 512, 28, 28]         --\n",
      "├─MaxPool2d: 1-24                        [-1, 512, 14, 14]         --\n",
      "├─Conv2d: 1-25                           [-1, 512, 14, 14]         2,359,808\n",
      "├─ReLU: 1-26                             [-1, 512, 14, 14]         --\n",
      "├─Conv2d: 1-27                           [-1, 512, 14, 14]         2,359,808\n",
      "├─ReLU: 1-28                             [-1, 512, 14, 14]         --\n",
      "├─Conv2d: 1-29                           [-1, 512, 14, 14]         2,359,808\n",
      "├─ReLU: 1-30                             [-1, 512, 14, 14]         --\n",
      "├─MaxPool2d: 1-31                        [-1, 512, 7, 7]           --\n",
      "├─Flatten: 1-32                          [-1, 25088]               --\n",
      "├─Linear: 1-33                           [-1, 4096]                102,764,544\n",
      "├─ReLU: 1-34                             [-1, 4096]                --\n",
      "├─Dropout: 1-35                          [-1, 4096]                --\n",
      "├─Linear: 1-36                           [-1, 4096]                16,781,312\n",
      "├─ReLU: 1-37                             [-1, 4096]                --\n",
      "├─Dropout: 1-38                          [-1, 4096]                --\n",
      "├─Linear: 1-39                           [-1, 10]                  40,970\n",
      "==========================================================================================\n",
      "Total params: 134,300,362\n",
      "Trainable params: 134,300,362\n",
      "Non-trainable params: 0\n",
      "Total mult-adds (G): 15.41\n",
      "==========================================================================================\n",
      "Input size (MB): 0.19\n",
      "Forward/backward pass size (MB): 103.42\n",
      "Params size (MB): 512.32\n",
      "Estimated Total Size (MB): 615.93\n",
      "==========================================================================================\n"
     ]
    },
    {
     "data": {
      "text/plain": [
       "==========================================================================================\n",
       "Layer (type:depth-idx)                   Output Shape              Param #\n",
       "==========================================================================================\n",
       "├─Conv2d: 1-1                            [-1, 64, 224, 224]        640\n",
       "├─ReLU: 1-2                              [-1, 64, 224, 224]        --\n",
       "├─Conv2d: 1-3                            [-1, 64, 224, 224]        36,928\n",
       "├─ReLU: 1-4                              [-1, 64, 224, 224]        --\n",
       "├─MaxPool2d: 1-5                         [-1, 64, 112, 112]        --\n",
       "├─Conv2d: 1-6                            [-1, 128, 112, 112]       73,856\n",
       "├─ReLU: 1-7                              [-1, 128, 112, 112]       --\n",
       "├─Conv2d: 1-8                            [-1, 128, 112, 112]       147,584\n",
       "├─ReLU: 1-9                              [-1, 128, 112, 112]       --\n",
       "├─MaxPool2d: 1-10                        [-1, 128, 56, 56]         --\n",
       "├─Conv2d: 1-11                           [-1, 256, 56, 56]         295,168\n",
       "├─ReLU: 1-12                             [-1, 256, 56, 56]         --\n",
       "├─Conv2d: 1-13                           [-1, 256, 56, 56]         590,080\n",
       "├─ReLU: 1-14                             [-1, 256, 56, 56]         --\n",
       "├─Conv2d: 1-15                           [-1, 256, 56, 56]         590,080\n",
       "├─ReLU: 1-16                             [-1, 256, 56, 56]         --\n",
       "├─MaxPool2d: 1-17                        [-1, 256, 28, 28]         --\n",
       "├─Conv2d: 1-18                           [-1, 512, 28, 28]         1,180,160\n",
       "├─ReLU: 1-19                             [-1, 512, 28, 28]         --\n",
       "├─Conv2d: 1-20                           [-1, 512, 28, 28]         2,359,808\n",
       "├─ReLU: 1-21                             [-1, 512, 28, 28]         --\n",
       "├─Conv2d: 1-22                           [-1, 512, 28, 28]         2,359,808\n",
       "├─ReLU: 1-23                             [-1, 512, 28, 28]         --\n",
       "├─MaxPool2d: 1-24                        [-1, 512, 14, 14]         --\n",
       "├─Conv2d: 1-25                           [-1, 512, 14, 14]         2,359,808\n",
       "├─ReLU: 1-26                             [-1, 512, 14, 14]         --\n",
       "├─Conv2d: 1-27                           [-1, 512, 14, 14]         2,359,808\n",
       "├─ReLU: 1-28                             [-1, 512, 14, 14]         --\n",
       "├─Conv2d: 1-29                           [-1, 512, 14, 14]         2,359,808\n",
       "├─ReLU: 1-30                             [-1, 512, 14, 14]         --\n",
       "├─MaxPool2d: 1-31                        [-1, 512, 7, 7]           --\n",
       "├─Flatten: 1-32                          [-1, 25088]               --\n",
       "├─Linear: 1-33                           [-1, 4096]                102,764,544\n",
       "├─ReLU: 1-34                             [-1, 4096]                --\n",
       "├─Dropout: 1-35                          [-1, 4096]                --\n",
       "├─Linear: 1-36                           [-1, 4096]                16,781,312\n",
       "├─ReLU: 1-37                             [-1, 4096]                --\n",
       "├─Dropout: 1-38                          [-1, 4096]                --\n",
       "├─Linear: 1-39                           [-1, 10]                  40,970\n",
       "==========================================================================================\n",
       "Total params: 134,300,362\n",
       "Trainable params: 134,300,362\n",
       "Non-trainable params: 0\n",
       "Total mult-adds (G): 15.41\n",
       "==========================================================================================\n",
       "Input size (MB): 0.19\n",
       "Forward/backward pass size (MB): 103.42\n",
       "Params size (MB): 512.32\n",
       "Estimated Total Size (MB): 615.93\n",
       "=========================================================================================="
      ]
     },
     "execution_count": 8,
     "metadata": {},
     "output_type": "execute_result"
    }
   ],
   "source": [
    "X = torch.randn(size=(1, 1, 224, 224))\n",
    "summary(vgg_1,X)"
   ]
  },
  {
   "cell_type": "code",
   "execution_count": null,
   "metadata": {},
   "outputs": [],
   "source": []
  }
 ],
 "metadata": {
  "kernelspec": {
   "display_name": "Python 3",
   "language": "python",
   "name": "python3"
  },
  "language_info": {
   "codemirror_mode": {
    "name": "ipython",
    "version": 3
   },
   "file_extension": ".py",
   "mimetype": "text/x-python",
   "name": "python",
   "nbconvert_exporter": "python",
   "pygments_lexer": "ipython3",
   "version": "3.6.5"
  },
  "latex_envs": {
   "LaTeX_envs_menu_present": true,
   "autoclose": false,
   "autocomplete": true,
   "bibliofile": "biblio.bib",
   "cite_by": "apalike",
   "current_citInitial": 1,
   "eqLabelWithNumbers": true,
   "eqNumInitial": 1,
   "hotkeys": {
    "equation": "Ctrl-E",
    "itemize": "Ctrl-I"
   },
   "labels_anchors": false,
   "latex_user_defs": false,
   "report_style_numbering": false,
   "user_envs_cfg": false
  },
  "nbTranslate": {
   "displayLangs": [
    "*"
   ],
   "hotkey": "alt-t",
   "langInMainMenu": true,
   "sourceLang": "en",
   "targetLang": "fr",
   "useGoogleTranslate": true
  },
  "toc": {
   "base_numbering": 1,
   "nav_menu": {},
   "number_sections": true,
   "sideBar": true,
   "skip_h1_title": true,
   "title_cell": "Table of Contents",
   "title_sidebar": "Contents",
   "toc_cell": true,
   "toc_position": {},
   "toc_section_display": true,
   "toc_window_display": true
  }
 },
 "nbformat": 4,
 "nbformat_minor": 2
}
