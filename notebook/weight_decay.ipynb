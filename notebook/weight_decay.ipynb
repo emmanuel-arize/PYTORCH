{
 "cells": [
  {
   "cell_type": "markdown",
   "metadata": {},
   "source": [
    "# Model Selection, Underfitting and Overfitting\n",
    "\n",
    "-------\n",
    "\n",
    "The goal of machine learning is find a learning algorithm (algorithm that is able to learn from data) or simply model, train a model by adjusting the model parameters to get the best possible performance, both on the training (with minimum training error) and the test dat or new inputs (the trained model must be able to generalized well with minimum generalization error or test error) but the challenge in machine learning is how well does the trained model perform not just on the training data, but also on new unseen inputs (test inputs).This is a fundamental problem in machine learning between <b> optimization (the process of adjusting a model parameters to give the best possible performance on the training data) and generalization (how well does the trained model performs on newly unseen data) because a trained model can perform well well on the training dataset but performs poorly on newly unseen data points.</b>\n",
    "\n",
    "\n",
    "# NOTE\n",
    "------\n",
    "<h3 style='color:blue'>The training error is the error of our model as calculated on the training dataset</h3>\n",
    "<h3 style='color:blue'>The generalization error is the expected value of the error on a test or new data points drawn from the same underlying data distribution as our original sample</h3>\n",
    "\n",
    "\n",
    "---\n",
    "---\n",
    "\n",
    "```\n",
    "The factors determining how well a machine learning algorithm will perform are its ability to:\n",
    "1. Make the training error small.\n",
    "2. Make the gap between training and test error small.\n",
    "These two factors correspond to the two central challenges in machine learning: underfitting and overfitting.\n",
    "\n",
    "(source: From the book, Deep Learning by Ian Goodfellow,Yoshua Bengio and Aaron Courville, page 111) \n",
    "```"
   ]
  },
  {
   "cell_type": "markdown",
   "metadata": {},
   "source": [
    "# Overftting\n",
    "\n",
    "-------\n",
    "When the complexity of the model is too high (highly flexible models) as compared to the underlying distribution of the data the model is trying to learn from, it tends to learn the noise present in data and is called overfitting. An Overfitted models has it training error much lower than validation error. <b>An overfitted model fails to Generalize well and has high Variance and Low Bias and the techniques used to combat overfitting are called regularization</b>."
   ]
  },
  {
   "cell_type": "markdown",
   "metadata": {},
   "source": [
    "# Underfitting\n",
    "----\n",
    "Underfitting occurs when the model can neither obtain sufficiently low error value on the training set nor generalize to new data and has low Variance and high Bias. Underfitted models are not able to reduce the training error. W"
   ]
  },
  {
   "cell_type": "markdown",
   "metadata": {},
   "source": [
    "# Regularization\n",
    "----\n",
    "\n",
    "## Regularization are techniques used to combat overfitting  and this reduces the test error or generalization erro\n",
    "\n",
    "```\n",
    " Regularization is any modification we make to a learning algorithm that is intended to reduce its generalization error \n",
    " but not its training error\n",
    " \n",
    " (source: From the book, Deep Learning by Ian Goodfellow,Yoshua Bengio and Aaron Courville, page 120)\n",
    "```"
   ]
  },
  {
   "cell_type": "markdown",
   "metadata": {},
   "source": [
    "#  WEIGHT  REGULARIZATION\n",
    "<img src='images/we.jpg'>\n",
    "(source: From the book, Deep Learning by Ian Goodfellow,Yoshua Bengio and Aaron Courville, page 120)\n",
    "<img src='images/weight.jpg'>\n",
    "(source: From the book, Deep Learning with python by François Chollet, page 107)"
   ]
  },
  {
   "cell_type": "markdown",
   "metadata": {},
   "source": [
    "\n",
    "# 1. Weight decay is also known as L2 regularization or ridge regression or Tikhonov regularization\n",
    "\n",
    "<b>L2 regularization is also called weight decay in the context of neural networks</b> prevent the weights from growing too large unless it is really necessary. It can be realized by\n",
    "adding a term to the cost OR objective function that penalizes large weights and is defined as\n",
    "\n",
    "$$\\tilde{\\ell}(w)=\\ell(w) + \\frac{\\lambda}{2}w^{2} $$\n",
    "\n",
    "where $ \\tilde{\\ell}$ is the regularized cost fucbtion $\\ell_{0}$ is an error measure (usually the sum of squared errors) and $\\lambda$ is a hyperparameter chosen ahead of time that controls how weights are penalized. (weights the relative contribution of the norm penalty term $w^{2} $  relative to the standard objective function $\\ell$)\n"
   ]
  },
  {
   "cell_type": "markdown",
   "metadata": {},
   "source": [
    "\n",
    "with the corresponding parameter gradient\n",
    "$$\\bigtriangledown \\tilde{\\ell}_{w}(w)=\\bigtriangledown \\ell_{w}(w) + \\lambda w $$\n",
    "\n",
    "The new updated weight after an iteration can be expressed as\n",
    "$$w=w-\\eta \\bigtriangledown\\tilde{\\ell}_{w}(w)=w-\\eta(\\lambda w +\\bigtriangledown \\ell_{w}(w)) $$\n",
    "\n",
    "$$ w=(1- \\eta\\lambda) w -\\eta \\bigtriangledown \\ell_{w}(w)) $$\n",
    "where $\\eta$ is the learning rate\n",
    "\n",
    "\n",
    "The addition of the weight decay term has modified the learning rule of the weight vector by a constant factor on each step just before updating the weights"
   ]
  },
  {
   "cell_type": "code",
   "execution_count": null,
   "metadata": {},
   "outputs": [],
   "source": []
  },
  {
   "cell_type": "markdown",
   "metadata": {},
   "source": [
    "For linear regression, the objective function, sum of squared errors is defined as\n",
    "$$e=(Xw-y)^{T}(Xw-y)$$\n",
    "\n",
    "When L2 regularization is added, the objective function changes to\n",
    "$$e=(Xw-y)^{T}(Xw-y)+ \\frac{\\lambda}{2}w^{2}$$\n",
    "\n",
    "and this the solution $w$ from\n",
    "$$ w=(XX^{T})^{-1}X^{T}y $$\n",
    "\n",
    "$$ To$$\n",
    "\n",
    "$$ w=(XX^{T}   + \\lambda  I )^{-1}X^{T}y $$\n",
    "\n",
    "Where the diagonal entries of this matrix $ \\lambda  I $ correspond to the variance of each input feature"
   ]
  },
  {
   "cell_type": "code",
   "execution_count": null,
   "metadata": {},
   "outputs": [],
   "source": []
  },
  {
   "cell_type": "markdown",
   "metadata": {},
   "source": [
    "<img src='images/lp.jpg'>\n",
    " (source: From the book am using: Dive into Deep Learning by Aston Zhang, Zachary C. Lipton, Mu Li, and Alexander J. Smola page 155-156)"
   ]
  },
  {
   "cell_type": "markdown",
   "metadata": {},
   "source": [
    "For more on the effects of weight regularization \n",
    "<a href='papers/563-a-simple-weight-decay-can-improve-generalization.pdf'>A Simple Weight Decay Can Improve Generalization by Anders Krogh and John A. Hertz</a>"
   ]
  },
  {
   "cell_type": "code",
   "execution_count": null,
   "metadata": {},
   "outputs": [],
   "source": []
  },
  {
   "cell_type": "markdown",
   "metadata": {
    "ExecuteTime": {
     "end_time": "2020-09-07T22:57:55.990446Z",
     "start_time": "2020-09-07T22:57:55.947447Z"
    }
   },
   "source": [
    "# High-Dimensional Linear Regression"
   ]
  },
  {
   "cell_type": "code",
   "execution_count": 1,
   "metadata": {
    "ExecuteTime": {
     "end_time": "2020-09-13T16:58:50.784009Z",
     "start_time": "2020-09-13T16:58:48.799316Z"
    }
   },
   "outputs": [
    {
     "data": {
      "text/plain": [
       "<torch._C.Generator at 0x259031b2bd0>"
      ]
     },
     "execution_count": 1,
     "metadata": {},
     "output_type": "execute_result"
    }
   ],
   "source": [
    "import torch\n",
    "import numpy as np\n",
    "import torch.nn as nn\n",
    "from torch.autograd import Variable\n",
    "import random\n",
    "import torch.nn.functional as F\n",
    "from torch.utils.data import TensorDataset,DataLoader\n",
    "import matplotlib.pyplot as plt\n",
    "import pandas as pd\n",
    "%matplotlib inline\n",
    "torch.manual_seed(1000)"
   ]
  },
  {
   "cell_type": "markdown",
   "metadata": {},
   "source": [
    "<img src='images/highp.jpg'>\n",
    "(source: From the book am using: Dive into Deep Learning by Aston Zhang, Zachary C. Lipton, Mu Li, and Alexander J. Smola page 156)"
   ]
  },
  {
   "cell_type": "code",
   "execution_count": 2,
   "metadata": {
    "ExecuteTime": {
     "end_time": "2020-09-13T16:58:50.815227Z",
     "start_time": "2020-09-13T16:58:50.784009Z"
    }
   },
   "outputs": [],
   "source": [
    "def synthetic_data(w, b, num_examples):  #@save\n",
    "    \"\"\"Generate y = Xw + b + noise.\"\"\"\n",
    "    X =torch.normal(0,0.01,(num_examples, w.shape[0]))\n",
    "    y=X@w+b + torch.zeros(((X@w+b).shape)).normal_(mean=0,std=0.01)\n",
    "    return X, y.reshape(-1,1)"
   ]
  },
  {
   "cell_type": "code",
   "execution_count": 3,
   "metadata": {
    "ExecuteTime": {
     "end_time": "2020-09-13T16:58:50.830852Z",
     "start_time": "2020-09-13T16:58:50.815227Z"
    }
   },
   "outputs": [],
   "source": [
    "batch_size=5\n",
    "lr=0.05\n",
    "lambd=1e-5"
   ]
  },
  {
   "cell_type": "code",
   "execution_count": 4,
   "metadata": {
    "ExecuteTime": {
     "end_time": "2020-09-13T16:58:50.846486Z",
     "start_time": "2020-09-13T16:58:50.830852Z"
    }
   },
   "outputs": [],
   "source": [
    "n_train, n_test, num_inputs= 20, 100, 200\n",
    "true_w, true_b=torch.zeros((num_inputs,1))*0.01,0.05"
   ]
  },
  {
   "cell_type": "code",
   "execution_count": 5,
   "metadata": {
    "ExecuteTime": {
     "end_time": "2020-09-13T16:58:50.884290Z",
     "start_time": "2020-09-13T16:58:50.846486Z"
    }
   },
   "outputs": [],
   "source": [
    "features, labels= synthetic_data(true_w, true_b, n_train)\n",
    "x_test,y_test = synthetic_data(true_w, true_b, n_test)"
   ]
  },
  {
   "cell_type": "code",
   "execution_count": 6,
   "metadata": {
    "ExecuteTime": {
     "end_time": "2020-09-13T16:58:50.915519Z",
     "start_time": "2020-09-13T16:58:50.884290Z"
    }
   },
   "outputs": [
    {
     "data": {
      "text/plain": [
       "tensor([[0.0458],\n",
       "        [0.0567],\n",
       "        [0.0482]])"
      ]
     },
     "execution_count": 6,
     "metadata": {},
     "output_type": "execute_result"
    }
   ],
   "source": [
    "labels[0:3]"
   ]
  },
  {
   "cell_type": "code",
   "execution_count": 7,
   "metadata": {
    "ExecuteTime": {
     "end_time": "2020-09-13T16:58:50.931145Z",
     "start_time": "2020-09-13T16:58:50.915519Z"
    }
   },
   "outputs": [],
   "source": [
    "def data_iter(features,labels,batch_size):\n",
    "    dataset=TensorDataset(*(features,labels))\n",
    "    data_loader=DataLoader(dataset=dataset,batch_size=batch_size,shuffle=True)\n",
    "    return data_loader"
   ]
  },
  {
   "cell_type": "code",
   "execution_count": 8,
   "metadata": {
    "ExecuteTime": {
     "end_time": "2020-09-13T16:58:50.946771Z",
     "start_time": "2020-09-13T16:58:50.931145Z"
    }
   },
   "outputs": [],
   "source": [
    "train_iter=data_iter(features,labels,batch_size=batch_size)\n",
    "test_iter=data_iter(x_test,y_test,batch_size=batch_size)"
   ]
  },
  {
   "cell_type": "code",
   "execution_count": 9,
   "metadata": {
    "ExecuteTime": {
     "end_time": "2020-09-13T16:58:50.984567Z",
     "start_time": "2020-09-13T16:58:50.946771Z"
    }
   },
   "outputs": [
    {
     "name": "stdout",
     "output_type": "stream",
     "text": [
      "torch.Size([5, 200])\n",
      "torch.Size([5, 1])\n",
      "tensor([[0.0441],\n",
      "        [0.0482],\n",
      "        [0.0567],\n",
      "        [0.0618],\n",
      "        [0.0569]])\n"
     ]
    }
   ],
   "source": [
    "for x,y in train_iter:\n",
    "    print(x.shape)\n",
    "    print(y.shape)\n",
    "    print(y)\n",
    "    break"
   ]
  },
  {
   "cell_type": "markdown",
   "metadata": {},
   "source": [
    "# Initializing Model Parameters"
   ]
  },
  {
   "cell_type": "code",
   "execution_count": 10,
   "metadata": {
    "ExecuteTime": {
     "end_time": "2020-09-13T16:58:51.015817Z",
     "start_time": "2020-09-13T16:58:50.984567Z"
    }
   },
   "outputs": [],
   "source": [
    "def init_params():\n",
    "    w_1=torch.normal(0,0.01,(num_inputs,5))\n",
    "    b_1= torch.zeros(5)\n",
    "    w_2=torch.normal(0,0.01,(5,1))\n",
    "    b_2= torch.zeros(1)\n",
    "    w_1.requires_grad_(True)\n",
    "    b_1.requires_grad_(True)\n",
    "    w_2.requires_grad_(True)\n",
    "    b_2.requires_grad_(True)\n",
    "    return [w_1,w_2,b_1,b_2]\n",
    "w_1,w_2, b_1,b_2 = init_params()"
   ]
  },
  {
   "cell_type": "markdown",
   "metadata": {
    "ExecuteTime": {
     "end_time": "2020-09-11T22:43:38.897158Z",
     "start_time": "2020-09-11T22:43:38.888156Z"
    }
   },
   "source": [
    "# L2 REGULARIZATION\n",
    "$$\\tilde{\\ell}(w)=\\ell(w) + \\frac{\\lambda}{2}w^{2} $$"
   ]
  },
  {
   "cell_type": "code",
   "execution_count": 11,
   "metadata": {
    "ExecuteTime": {
     "end_time": "2020-09-13T16:58:51.047065Z",
     "start_time": "2020-09-13T16:58:51.015817Z"
    }
   },
   "outputs": [],
   "source": [
    "def l2_regularizer(y_hat, y,w_1,w_2,lambd=lambd):\n",
    "    square_error=(y_hat - y.reshape(y_hat.shape)) ** 2 \n",
    "    l2_penalty=(lambd*((w_1**2).sum()+(w_2**2).sum()))/2 \n",
    "    return square_error + l2_penalty  "
   ]
  },
  {
   "cell_type": "markdown",
   "metadata": {
    "ExecuteTime": {
     "end_time": "2020-09-12T15:37:32.884493Z",
     "start_time": "2020-09-12T15:37:32.875489Z"
    }
   },
   "source": [
    "# Defining the Model"
   ]
  },
  {
   "cell_type": "code",
   "execution_count": 12,
   "metadata": {
    "ExecuteTime": {
     "end_time": "2020-09-13T16:58:51.062693Z",
     "start_time": "2020-09-13T16:58:51.047065Z"
    }
   },
   "outputs": [],
   "source": [
    "def relu(x):\n",
    "    a=torch.zeros_like(x)\n",
    "    return torch.max(a,x)\n",
    "def Linear(X,w_1,w_2,b_1,b_2):\n",
    "    l1=torch.matmul(X,w_1)+b_1\n",
    "    h1=relu(l1)\n",
    "    output=torch.matmul(h1,w_2)+b_2\n",
    "    return output\n",
    "net=Linear"
   ]
  },
  {
   "cell_type": "code",
   "execution_count": 13,
   "metadata": {
    "ExecuteTime": {
     "end_time": "2020-09-13T16:58:51.079484Z",
     "start_time": "2020-09-13T16:58:51.069242Z"
    }
   },
   "outputs": [],
   "source": [
    "def sgd(params,lr,batch_size):\n",
    "    for param in params:\n",
    "        param.data.sub_(lr*param.grad/batch_size)\n",
    "        param.grad.data.zero_()"
   ]
  },
  {
   "cell_type": "code",
   "execution_count": 14,
   "metadata": {
    "ExecuteTime": {
     "end_time": "2020-09-13T16:58:51.508335Z",
     "start_time": "2020-09-13T16:58:51.081572Z"
    },
    "scrolled": true
   },
   "outputs": [
    {
     "name": "stdout",
     "output_type": "stream",
     "text": [
      "epoch : 6, training loss :0.001005 testing loss :0.000904\n",
      "epoch : 11, training loss :0.000455 testing loss :0.000394\n",
      "epoch : 16, training loss :0.000223 testing loss :0.000190\n",
      "epoch : 21, training loss :0.000126 testing loss :0.000114\n",
      "epoch : 26, training loss :0.000105 testing loss :0.000101\n",
      "epoch : 31, training loss :0.000100 testing loss :0.000099\n",
      "epoch : 36, training loss :0.000097 testing loss :0.000099\n",
      "epoch : 41, training loss :0.000097 testing loss :0.000099\n",
      "epoch : 46, training loss :0.000097 testing loss :0.000099\n",
      "epoch : 51, training loss :0.000097 testing loss :0.000099\n"
     ]
    }
   ],
   "source": [
    "num_epochs = 50# Number of iterations\n",
    "for epoch in range(num_epochs):\n",
    "    epoch+=1\n",
    "    for X,y in train_iter:\n",
    "        pred=net(X,w_1,w_2,b_1,b_2)\n",
    "        loss=l2_regularizer(pred,y,w_1,w_2)\n",
    "    loss.sum().backward()\n",
    "    sgd([w_1,w_2,b_1,b_2],lr=lr,batch_size=batch_size)\n",
    "    with torch.no_grad():\n",
    "        train_l = l2_regularizer(net(features, w_1,w_2,b_1,b_2), labels,w_1,w_2)\n",
    "        test_l = l2_regularizer(net(x_test, w_1,w_2,b_1,b_2),y_test,w_1,w_2)\n",
    "    if epoch%5==0:\n",
    "        print('epoch : %d, training loss :%f testing loss :%f' % (epoch + 1,\n",
    "                                                                  train_l.mean().numpy(), \n",
    "                                                                  test_l.mean().numpy()))"
   ]
  },
  {
   "cell_type": "code",
   "execution_count": null,
   "metadata": {},
   "outputs": [],
   "source": []
  },
  {
   "cell_type": "markdown",
   "metadata": {},
   "source": [
    "# CONCISE IMPLEMENTATION\n",
    "-----\n",
    "------"
   ]
  },
  {
   "cell_type": "code",
   "execution_count": 15,
   "metadata": {
    "ExecuteTime": {
     "end_time": "2020-09-13T16:58:51.539583Z",
     "start_time": "2020-09-13T16:58:51.508335Z"
    }
   },
   "outputs": [],
   "source": [
    "class LR(nn.Module):\n",
    "    def __init__(self):\n",
    "        super().__init__()\n",
    "        self.linear1=nn.Linear(200,5)\n",
    "        self.relu=nn.ReLU()\n",
    "        self.linear2=nn.Linear(5,1)\n",
    "    def forward(self,x):\n",
    "        h1=self.relu(self.linear1(x))\n",
    "        output=self.linear2(h1)\n",
    "        return output\n",
    "nett=LR()"
   ]
  },
  {
   "cell_type": "code",
   "execution_count": 16,
   "metadata": {
    "ExecuteTime": {
     "end_time": "2020-09-13T16:58:51.555210Z",
     "start_time": "2020-09-13T16:58:51.539583Z"
    }
   },
   "outputs": [],
   "source": [
    "opt=torch.optim.SGD(nett.parameters(),lr=lr,weight_decay=lambd)"
   ]
  },
  {
   "cell_type": "code",
   "execution_count": 17,
   "metadata": {
    "ExecuteTime": {
     "end_time": "2020-09-13T16:58:51.583035Z",
     "start_time": "2020-09-13T16:58:51.561730Z"
    }
   },
   "outputs": [],
   "source": [
    "mse_err=nn.MSELoss()"
   ]
  },
  {
   "cell_type": "code",
   "execution_count": 18,
   "metadata": {
    "ExecuteTime": {
     "end_time": "2020-09-13T16:58:51.926610Z",
     "start_time": "2020-09-13T16:58:51.583035Z"
    }
   },
   "outputs": [
    {
     "name": "stdout",
     "output_type": "stream",
     "text": [
      "epoch : 6, training loss :0.022875 testing loss :0.022264\n",
      "epoch : 11, training loss :0.006335 testing loss :0.006019\n",
      "epoch : 16, training loss :0.001766 testing loss :0.001605\n",
      "epoch : 21, training loss :0.000487 testing loss :0.000412\n",
      "epoch : 26, training loss :0.000211 testing loss :0.000173\n",
      "epoch : 31, training loss :0.000125 testing loss :0.000110\n",
      "epoch : 36, training loss :0.000114 testing loss :0.000106\n",
      "epoch : 41, training loss :0.000117 testing loss :0.000107\n",
      "epoch : 46, training loss :0.000114 testing loss :0.000106\n",
      "epoch : 51, training loss :0.000110 testing loss :0.000106\n"
     ]
    }
   ],
   "source": [
    "for epoch in range(50):\n",
    "    epoch +=1\n",
    "    for XX,yy in train_iter:\n",
    "        prd=nett(XX)\n",
    "        #pred=float(pred)\n",
    "        l2_l=mse_err(prd,yy)\n",
    "    opt.zero_grad()\n",
    "    l2_l.backward()\n",
    "    opt.step()\n",
    "    with torch.no_grad():\n",
    "        train_l = mse_err(nett(features), labels)\n",
    "        test_l = mse_err(nett(x_test),y_test)\n",
    "    if epoch%5==0:\n",
    "        print('epoch : %d, training loss :%f testing loss :%f' % (epoch + 1, train_l.mean().numpy(), test_l.mean().numpy()))"
   ]
  },
  {
   "cell_type": "code",
   "execution_count": null,
   "metadata": {},
   "outputs": [],
   "source": []
  },
  {
   "cell_type": "code",
   "execution_count": 19,
   "metadata": {
    "ExecuteTime": {
     "end_time": "2020-09-13T16:58:51.948788Z",
     "start_time": "2020-09-13T16:58:51.933138Z"
    }
   },
   "outputs": [],
   "source": [
    "model=nn.Sequential(nn.Linear(num_inputs,5),\n",
    "                    nn.ReLU(),\n",
    "                    nn.Linear(5,1))"
   ]
  },
  {
   "cell_type": "code",
   "execution_count": 20,
   "metadata": {
    "ExecuteTime": {
     "end_time": "2020-09-13T16:58:51.964409Z",
     "start_time": "2020-09-13T16:58:51.948788Z"
    }
   },
   "outputs": [],
   "source": [
    "mse_loss=nn.MSELoss()"
   ]
  },
  {
   "cell_type": "code",
   "execution_count": 21,
   "metadata": {
    "ExecuteTime": {
     "end_time": "2020-09-13T16:58:51.980039Z",
     "start_time": "2020-09-13T16:58:51.964409Z"
    }
   },
   "outputs": [],
   "source": [
    "optm=torch.optim.SGD([{'params':model[0].weight,'weight_decay':lambd},{'params':model[0].bias}],lr=lr)"
   ]
  },
  {
   "cell_type": "code",
   "execution_count": 22,
   "metadata": {
    "ExecuteTime": {
     "end_time": "2020-09-13T16:58:52.982965Z",
     "start_time": "2020-09-13T16:58:51.987178Z"
    }
   },
   "outputs": [
    {
     "name": "stdout",
     "output_type": "stream",
     "text": [
      "epocgh 5, loss 0.008473\n",
      "epocgh 10, loss 0.006948\n",
      "epocgh 15, loss 0.003955\n",
      "epocgh 20, loss 0.002995\n",
      "epocgh 25, loss 0.002086\n",
      "epocgh 30, loss 0.001252\n",
      "epocgh 35, loss 0.000875\n",
      "epocgh 40, loss 0.000365\n",
      "epocgh 45, loss 0.000823\n",
      "epocgh 50, loss 0.000311\n",
      "epocgh 55, loss 0.000140\n",
      "epocgh 60, loss 0.000262\n",
      "epocgh 65, loss 0.000145\n",
      "epocgh 70, loss 0.000044\n",
      "epocgh 75, loss 0.000255\n",
      "epocgh 80, loss 0.000174\n",
      "epocgh 85, loss 0.000055\n",
      "epocgh 90, loss 0.000080\n",
      "epocgh 95, loss 0.000042\n",
      "epocgh 100, loss 0.000158\n",
      "epocgh 105, loss 0.000071\n",
      "epocgh 110, loss 0.000019\n",
      "epocgh 115, loss 0.000103\n",
      "epocgh 120, loss 0.000048\n",
      "epocgh 125, loss 0.000186\n",
      "epocgh 130, loss 0.000070\n",
      "epocgh 135, loss 0.000134\n",
      "epocgh 140, loss 0.000156\n",
      "epocgh 145, loss 0.000147\n",
      "epocgh 150, loss 0.000040\n"
     ]
    }
   ],
   "source": [
    "for epoch in range(150):\n",
    "    epoch+=1\n",
    "    for x,y in train_iter:\n",
    "        model.train()\n",
    "        pred=model(x)\n",
    "        los=mse_loss(pred,y)\n",
    "        optm.zero_grad()\n",
    "        los.backward()\n",
    "        optm.step()\n",
    "    if epoch%5==0:\n",
    "        print('epocgh %d, loss %f'%(epoch,los))"
   ]
  },
  {
   "cell_type": "code",
   "execution_count": 23,
   "metadata": {
    "ExecuteTime": {
     "end_time": "2020-09-13T16:58:53.014208Z",
     "start_time": "2020-09-13T16:58:52.982965Z"
    }
   },
   "outputs": [],
   "source": [
    "predicted=model(x_test)"
   ]
  },
  {
   "cell_type": "code",
   "execution_count": 24,
   "metadata": {
    "ExecuteTime": {
     "end_time": "2020-09-13T16:58:53.029830Z",
     "start_time": "2020-09-13T16:58:53.014208Z"
    }
   },
   "outputs": [],
   "source": [
    "y_true=y_test.numpy()\n",
    "predicted=predicted.data.numpy()"
   ]
  },
  {
   "cell_type": "code",
   "execution_count": 25,
   "metadata": {
    "ExecuteTime": {
     "end_time": "2020-09-13T16:58:53.051995Z",
     "start_time": "2020-09-13T16:58:53.036349Z"
    }
   },
   "outputs": [],
   "source": [
    "predicted=np.array(predicted)\n",
    "y_true=np.array(y_true)"
   ]
  },
  {
   "cell_type": "code",
   "execution_count": 26,
   "metadata": {
    "ExecuteTime": {
     "end_time": "2020-09-13T16:58:53.067624Z",
     "start_time": "2020-09-13T16:58:53.051995Z"
    }
   },
   "outputs": [],
   "source": [
    "d=np.concatenate((y_true,predicted),1)"
   ]
  },
  {
   "cell_type": "code",
   "execution_count": 27,
   "metadata": {
    "ExecuteTime": {
     "end_time": "2020-09-13T16:58:53.088910Z",
     "start_time": "2020-09-13T16:58:53.073270Z"
    }
   },
   "outputs": [],
   "source": [
    "data=pd.DataFrame(d,columns=['y_true','predicted'])"
   ]
  },
  {
   "cell_type": "code",
   "execution_count": 28,
   "metadata": {
    "ExecuteTime": {
     "end_time": "2020-09-13T16:58:53.135790Z",
     "start_time": "2020-09-13T16:58:53.088910Z"
    }
   },
   "outputs": [
    {
     "data": {
      "text/html": [
       "<div>\n",
       "<style scoped>\n",
       "    .dataframe tbody tr th:only-of-type {\n",
       "        vertical-align: middle;\n",
       "    }\n",
       "\n",
       "    .dataframe tbody tr th {\n",
       "        vertical-align: top;\n",
       "    }\n",
       "\n",
       "    .dataframe thead th {\n",
       "        text-align: right;\n",
       "    }\n",
       "</style>\n",
       "<table border=\"1\" class=\"dataframe\">\n",
       "  <thead>\n",
       "    <tr style=\"text-align: right;\">\n",
       "      <th></th>\n",
       "      <th>y_true</th>\n",
       "      <th>predicted</th>\n",
       "    </tr>\n",
       "  </thead>\n",
       "  <tbody>\n",
       "    <tr>\n",
       "      <th>0</th>\n",
       "      <td>0.036797</td>\n",
       "      <td>0.051809</td>\n",
       "    </tr>\n",
       "    <tr>\n",
       "      <th>1</th>\n",
       "      <td>0.062678</td>\n",
       "      <td>0.049475</td>\n",
       "    </tr>\n",
       "    <tr>\n",
       "      <th>2</th>\n",
       "      <td>0.049847</td>\n",
       "      <td>0.052281</td>\n",
       "    </tr>\n",
       "    <tr>\n",
       "      <th>3</th>\n",
       "      <td>0.062470</td>\n",
       "      <td>0.052692</td>\n",
       "    </tr>\n",
       "    <tr>\n",
       "      <th>4</th>\n",
       "      <td>0.066164</td>\n",
       "      <td>0.049744</td>\n",
       "    </tr>\n",
       "    <tr>\n",
       "      <th>5</th>\n",
       "      <td>0.051938</td>\n",
       "      <td>0.052134</td>\n",
       "    </tr>\n",
       "    <tr>\n",
       "      <th>6</th>\n",
       "      <td>0.043664</td>\n",
       "      <td>0.050870</td>\n",
       "    </tr>\n",
       "    <tr>\n",
       "      <th>7</th>\n",
       "      <td>0.059681</td>\n",
       "      <td>0.051552</td>\n",
       "    </tr>\n",
       "    <tr>\n",
       "      <th>8</th>\n",
       "      <td>0.052711</td>\n",
       "      <td>0.048505</td>\n",
       "    </tr>\n",
       "    <tr>\n",
       "      <th>9</th>\n",
       "      <td>0.050714</td>\n",
       "      <td>0.052297</td>\n",
       "    </tr>\n",
       "    <tr>\n",
       "      <th>10</th>\n",
       "      <td>0.051071</td>\n",
       "      <td>0.052175</td>\n",
       "    </tr>\n",
       "    <tr>\n",
       "      <th>11</th>\n",
       "      <td>0.043019</td>\n",
       "      <td>0.048695</td>\n",
       "    </tr>\n",
       "    <tr>\n",
       "      <th>12</th>\n",
       "      <td>0.056118</td>\n",
       "      <td>0.050843</td>\n",
       "    </tr>\n",
       "    <tr>\n",
       "      <th>13</th>\n",
       "      <td>0.043349</td>\n",
       "      <td>0.052593</td>\n",
       "    </tr>\n",
       "    <tr>\n",
       "      <th>14</th>\n",
       "      <td>0.037939</td>\n",
       "      <td>0.052569</td>\n",
       "    </tr>\n",
       "    <tr>\n",
       "      <th>15</th>\n",
       "      <td>0.034412</td>\n",
       "      <td>0.053062</td>\n",
       "    </tr>\n",
       "    <tr>\n",
       "      <th>16</th>\n",
       "      <td>0.062066</td>\n",
       "      <td>0.051985</td>\n",
       "    </tr>\n",
       "    <tr>\n",
       "      <th>17</th>\n",
       "      <td>0.048475</td>\n",
       "      <td>0.052989</td>\n",
       "    </tr>\n",
       "    <tr>\n",
       "      <th>18</th>\n",
       "      <td>0.043670</td>\n",
       "      <td>0.053356</td>\n",
       "    </tr>\n",
       "    <tr>\n",
       "      <th>19</th>\n",
       "      <td>0.034280</td>\n",
       "      <td>0.051099</td>\n",
       "    </tr>\n",
       "    <tr>\n",
       "      <th>20</th>\n",
       "      <td>0.052282</td>\n",
       "      <td>0.050995</td>\n",
       "    </tr>\n",
       "    <tr>\n",
       "      <th>21</th>\n",
       "      <td>0.042179</td>\n",
       "      <td>0.053838</td>\n",
       "    </tr>\n",
       "    <tr>\n",
       "      <th>22</th>\n",
       "      <td>0.046184</td>\n",
       "      <td>0.052432</td>\n",
       "    </tr>\n",
       "    <tr>\n",
       "      <th>23</th>\n",
       "      <td>0.049759</td>\n",
       "      <td>0.050506</td>\n",
       "    </tr>\n",
       "    <tr>\n",
       "      <th>24</th>\n",
       "      <td>0.051737</td>\n",
       "      <td>0.052273</td>\n",
       "    </tr>\n",
       "    <tr>\n",
       "      <th>25</th>\n",
       "      <td>0.053592</td>\n",
       "      <td>0.051283</td>\n",
       "    </tr>\n",
       "    <tr>\n",
       "      <th>26</th>\n",
       "      <td>0.057016</td>\n",
       "      <td>0.052587</td>\n",
       "    </tr>\n",
       "    <tr>\n",
       "      <th>27</th>\n",
       "      <td>0.060897</td>\n",
       "      <td>0.050911</td>\n",
       "    </tr>\n",
       "    <tr>\n",
       "      <th>28</th>\n",
       "      <td>0.053016</td>\n",
       "      <td>0.051546</td>\n",
       "    </tr>\n",
       "    <tr>\n",
       "      <th>29</th>\n",
       "      <td>0.060562</td>\n",
       "      <td>0.052464</td>\n",
       "    </tr>\n",
       "    <tr>\n",
       "      <th>30</th>\n",
       "      <td>0.041082</td>\n",
       "      <td>0.052387</td>\n",
       "    </tr>\n",
       "    <tr>\n",
       "      <th>31</th>\n",
       "      <td>0.045909</td>\n",
       "      <td>0.053251</td>\n",
       "    </tr>\n",
       "    <tr>\n",
       "      <th>32</th>\n",
       "      <td>0.042377</td>\n",
       "      <td>0.053341</td>\n",
       "    </tr>\n",
       "    <tr>\n",
       "      <th>33</th>\n",
       "      <td>0.050858</td>\n",
       "      <td>0.051011</td>\n",
       "    </tr>\n",
       "    <tr>\n",
       "      <th>34</th>\n",
       "      <td>0.058142</td>\n",
       "      <td>0.050267</td>\n",
       "    </tr>\n",
       "    <tr>\n",
       "      <th>35</th>\n",
       "      <td>0.049955</td>\n",
       "      <td>0.049985</td>\n",
       "    </tr>\n",
       "    <tr>\n",
       "      <th>36</th>\n",
       "      <td>0.042117</td>\n",
       "      <td>0.054182</td>\n",
       "    </tr>\n",
       "    <tr>\n",
       "      <th>37</th>\n",
       "      <td>0.055302</td>\n",
       "      <td>0.052475</td>\n",
       "    </tr>\n",
       "    <tr>\n",
       "      <th>38</th>\n",
       "      <td>0.056720</td>\n",
       "      <td>0.050854</td>\n",
       "    </tr>\n",
       "    <tr>\n",
       "      <th>39</th>\n",
       "      <td>0.049715</td>\n",
       "      <td>0.053161</td>\n",
       "    </tr>\n",
       "    <tr>\n",
       "      <th>40</th>\n",
       "      <td>0.048364</td>\n",
       "      <td>0.052315</td>\n",
       "    </tr>\n",
       "    <tr>\n",
       "      <th>41</th>\n",
       "      <td>0.035127</td>\n",
       "      <td>0.053208</td>\n",
       "    </tr>\n",
       "    <tr>\n",
       "      <th>42</th>\n",
       "      <td>0.059705</td>\n",
       "      <td>0.051044</td>\n",
       "    </tr>\n",
       "    <tr>\n",
       "      <th>43</th>\n",
       "      <td>0.055682</td>\n",
       "      <td>0.050634</td>\n",
       "    </tr>\n",
       "    <tr>\n",
       "      <th>44</th>\n",
       "      <td>0.068168</td>\n",
       "      <td>0.052515</td>\n",
       "    </tr>\n",
       "    <tr>\n",
       "      <th>45</th>\n",
       "      <td>0.054791</td>\n",
       "      <td>0.054553</td>\n",
       "    </tr>\n",
       "    <tr>\n",
       "      <th>46</th>\n",
       "      <td>0.039925</td>\n",
       "      <td>0.049184</td>\n",
       "    </tr>\n",
       "    <tr>\n",
       "      <th>47</th>\n",
       "      <td>0.044681</td>\n",
       "      <td>0.052601</td>\n",
       "    </tr>\n",
       "    <tr>\n",
       "      <th>48</th>\n",
       "      <td>0.045973</td>\n",
       "      <td>0.052005</td>\n",
       "    </tr>\n",
       "    <tr>\n",
       "      <th>49</th>\n",
       "      <td>0.041417</td>\n",
       "      <td>0.053956</td>\n",
       "    </tr>\n",
       "  </tbody>\n",
       "</table>\n",
       "</div>"
      ],
      "text/plain": [
       "      y_true  predicted\n",
       "0   0.036797   0.051809\n",
       "1   0.062678   0.049475\n",
       "2   0.049847   0.052281\n",
       "3   0.062470   0.052692\n",
       "4   0.066164   0.049744\n",
       "5   0.051938   0.052134\n",
       "6   0.043664   0.050870\n",
       "7   0.059681   0.051552\n",
       "8   0.052711   0.048505\n",
       "9   0.050714   0.052297\n",
       "10  0.051071   0.052175\n",
       "11  0.043019   0.048695\n",
       "12  0.056118   0.050843\n",
       "13  0.043349   0.052593\n",
       "14  0.037939   0.052569\n",
       "15  0.034412   0.053062\n",
       "16  0.062066   0.051985\n",
       "17  0.048475   0.052989\n",
       "18  0.043670   0.053356\n",
       "19  0.034280   0.051099\n",
       "20  0.052282   0.050995\n",
       "21  0.042179   0.053838\n",
       "22  0.046184   0.052432\n",
       "23  0.049759   0.050506\n",
       "24  0.051737   0.052273\n",
       "25  0.053592   0.051283\n",
       "26  0.057016   0.052587\n",
       "27  0.060897   0.050911\n",
       "28  0.053016   0.051546\n",
       "29  0.060562   0.052464\n",
       "30  0.041082   0.052387\n",
       "31  0.045909   0.053251\n",
       "32  0.042377   0.053341\n",
       "33  0.050858   0.051011\n",
       "34  0.058142   0.050267\n",
       "35  0.049955   0.049985\n",
       "36  0.042117   0.054182\n",
       "37  0.055302   0.052475\n",
       "38  0.056720   0.050854\n",
       "39  0.049715   0.053161\n",
       "40  0.048364   0.052315\n",
       "41  0.035127   0.053208\n",
       "42  0.059705   0.051044\n",
       "43  0.055682   0.050634\n",
       "44  0.068168   0.052515\n",
       "45  0.054791   0.054553\n",
       "46  0.039925   0.049184\n",
       "47  0.044681   0.052601\n",
       "48  0.045973   0.052005\n",
       "49  0.041417   0.053956"
      ]
     },
     "execution_count": 28,
     "metadata": {},
     "output_type": "execute_result"
    }
   ],
   "source": [
    "data.head(50)"
   ]
  },
  {
   "cell_type": "code",
   "execution_count": null,
   "metadata": {},
   "outputs": [],
   "source": []
  },
  {
   "cell_type": "code",
   "execution_count": null,
   "metadata": {},
   "outputs": [],
   "source": []
  },
  {
   "cell_type": "code",
   "execution_count": null,
   "metadata": {},
   "outputs": [],
   "source": []
  }
 ],
 "metadata": {
  "kernelspec": {
   "display_name": "Python 3",
   "language": "python",
   "name": "python3"
  },
  "language_info": {
   "codemirror_mode": {
    "name": "ipython",
    "version": 3
   },
   "file_extension": ".py",
   "mimetype": "text/x-python",
   "name": "python",
   "nbconvert_exporter": "python",
   "pygments_lexer": "ipython3",
   "version": "3.6.5"
  }
 },
 "nbformat": 4,
 "nbformat_minor": 2
}
